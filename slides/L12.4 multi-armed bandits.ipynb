{
 "cells": [
  {
   "cell_type": "markdown",
   "metadata": {},
   "source": [
    "# A/B Testing from Scratch: Multi-armed Bandits"
   ]
  },
  {
   "cell_type": "markdown",
   "metadata": {},
   "source": [
    "Notebook from [cstorm125/abtest](https://github.com/cstorm125/abtest)\n",
    "\n",
    "Frequentist and Bayesian A/B tests require you to divide your traffic into arbitrary groups for a period of time, then perform statistical tests based on the results. By definition, this forces us to divert out traffic to suboptimal variations during the test period, resulting in lower overall conversion rates. On the other hand, multi-barmed bandit appraoch (MAB) dynamically adjusts the percentage of traffic shown to each variation according to how they have performed so far during the test, resulting in smaller loss in conversion rates.\n",
    "\n",
    "![Traditional A/B Test vs Multi-armed Bandits](https://github.com/cstorm125/abtest/raw/master/images/ab_vs_mab.png)\n",
    "\n",
    "Source: [Automizy](https://automizy.com/blog/increase-email-course-open-rates-with-machine-learning/) via [Multi-Arm Bandits: a potential alternative to A/B tests](https://medium.com/brillio-data-science/multi-arm-bandits-a-potential-alternative-to-a-b-tests-a647d9bf2a7e)"
   ]
  },
  {
   "cell_type": "code",
   "execution_count": 1,
   "metadata": {},
   "outputs": [],
   "source": [
    "#install michael\n",
    "# !git clone https://github.com/cstorm125/michael.git\n",
    "# !cd michael; pip install ."
   ]
  },
  {
   "cell_type": "code",
   "execution_count": 2,
   "metadata": {},
   "outputs": [],
   "source": [
    "import numpy as np\n",
    "import pandas as pd\n",
    "\n",
    "#widgets\n",
    "from ipywidgets import interact, interactive, fixed, interact_manual\n",
    "import ipywidgets as widgets\n",
    "from IPython.display import display\n",
    "\n",
    "#plots\n",
    "import matplotlib.pyplot as plt\n",
    "from plotnine import *\n",
    "\n",
    "#stats\n",
    "import scipy as sp\n",
    "import statsmodels as sm\n",
    "\n",
    "import warnings\n",
    "warnings.filterwarnings('ignore')"
   ]
  },
  {
   "cell_type": "markdown",
   "metadata": {},
   "source": [
    "## Arms, Variations, Ads, or Anything"
   ]
  },
  {
   "cell_type": "markdown",
   "metadata": {},
   "source": [
    "We treat serving a variation of content, be it product listings, recommended products, search results, online ads, or whatever we want to experiment on as *pulling an arm*. The arm will record an impression and, at an arbitrary amount of delay time, an action such as a click or add-to-cart based on that impression. In our example, we define our arm as a Bernoulli trial with the true probability of conversion ($\\frac{actions}{impressions}$) `true_p`."
   ]
  },
  {
   "cell_type": "code",
   "execution_count": 3,
   "metadata": {},
   "outputs": [],
   "source": [
    "class Arm:\n",
    "    def __init__(self, true_p):\n",
    "        self.true_p = true_p\n",
    "        self.reset()\n",
    "    def reset(self):\n",
    "        self.impressions = 0\n",
    "        self.actions = 0\n",
    "    def get_state(self):\n",
    "        return self.impressions,self.actions\n",
    "    def get_rate(self):\n",
    "        return self.actions / self.impressions if self.impressions >0 else 0.\n",
    "    def pull(self):\n",
    "        self.impressions+=1\n",
    "        res = 1 if np.random.random() < self.true_p else 0\n",
    "        self.actions+=res\n",
    "        return res"
   ]
  },
  {
   "cell_type": "code",
   "execution_count": 4,
   "metadata": {},
   "outputs": [
    {
     "data": {
      "text/plain": [
       "(100, 12)"
      ]
     },
     "execution_count": 4,
     "metadata": {},
     "output_type": "execute_result"
    }
   ],
   "source": [
    "a = Arm(0.1)\n",
    "for i in range(100): a.pull()\n",
    "a.get_state()"
   ]
  },
  {
   "cell_type": "markdown",
   "metadata": {},
   "source": [
    "## Environment"
   ]
  },
  {
   "cell_type": "markdown",
   "metadata": {},
   "source": [
    "We simulate an environment is an arbitrary number of arms with a set of predefined true probability `true_p` and average number of impressions `avg_impression` per time period `t`. This environment mimics most content serving APIs which display each variation at the ratio `ps` as defined by experimenters."
   ]
  },
  {
   "cell_type": "code",
   "execution_count": 5,
   "metadata": {},
   "outputs": [
    {
     "data": {
      "text/plain": [
       "[(0, 0), (0, 0), (0, 0)]"
      ]
     },
     "execution_count": 5,
     "metadata": {},
     "output_type": "execute_result"
    }
   ],
   "source": [
    "from michael.mab.env import MusketeerEnv\n",
    "env = MusketeerEnv(true_ps = [0.1,0.12,0.13], avg_impressions=400)\n",
    "env.reset()"
   ]
  },
  {
   "cell_type": "markdown",
   "metadata": {},
   "source": [
    "For instance, in a traditional A/B test with a default variation, new variation `A` and new variation `B`. We may divide 60% traffic to the default variation and 20% each to `A` and `B`. After 1,000 time steps, we will get the following results."
   ]
  },
  {
   "cell_type": "code",
   "execution_count": 6,
   "metadata": {},
   "outputs": [
    {
     "data": {
      "text/plain": [
       "[0.09919105501672949, 0.12089171974522293, 0.13930778739184177]"
      ]
     },
     "execution_count": 6,
     "metadata": {},
     "output_type": "execute_result"
    }
   ],
   "source": [
    "for i in range(100):\n",
    "    env.step([0.6,0.2,0.2])\n",
    "env.get_rates()"
   ]
  },
  {
   "cell_type": "markdown",
   "metadata": {},
   "source": [
    "In order to evaluate an MAB agent, we use 3 main metrics:\n",
    "1. `opt_impressions_rate`: cumulative percentage of impressions we have given to the optimal arm at that timestep; this shows us how often we have picked the \"best\" arm\n",
    "2. `regret_rate`: cumulative conversion rate of the best arm at that timestep minus cumulative conversion rate of all impressions; this shows us the difference in conversion rate we have lost by not picking the \"best\" arm\n",
    "3. `regret`: cumulative actions if we had chosen the \"best\" arm minus actual cumulative conversions; this shows us how much actions we have lost by not picking the \"best\" arm"
   ]
  },
  {
   "cell_type": "code",
   "execution_count": 7,
   "metadata": {},
   "outputs": [
    {
     "data": {
      "text/html": [
       "<div>\n",
       "<style scoped>\n",
       "    .dataframe tbody tr th:only-of-type {\n",
       "        vertical-align: middle;\n",
       "    }\n",
       "\n",
       "    .dataframe tbody tr th {\n",
       "        vertical-align: top;\n",
       "    }\n",
       "\n",
       "    .dataframe thead th {\n",
       "        text-align: right;\n",
       "    }\n",
       "</style>\n",
       "<table border=\"1\" class=\"dataframe\">\n",
       "  <thead>\n",
       "    <tr style=\"text-align: right;\">\n",
       "      <th></th>\n",
       "      <th>t</th>\n",
       "      <th>rate_0</th>\n",
       "      <th>rate_1</th>\n",
       "      <th>rate_2</th>\n",
       "      <th>impressions_0</th>\n",
       "      <th>impressions_1</th>\n",
       "      <th>impressions_2</th>\n",
       "      <th>actions_0</th>\n",
       "      <th>actions_1</th>\n",
       "      <th>actions_2</th>\n",
       "      <th>total_impressions</th>\n",
       "      <th>total_actions</th>\n",
       "      <th>total_rate</th>\n",
       "      <th>opt_impressions</th>\n",
       "      <th>opt_impressions_rate</th>\n",
       "      <th>regret_rate</th>\n",
       "      <th>regret</th>\n",
       "      <th>value_remaining</th>\n",
       "    </tr>\n",
       "  </thead>\n",
       "  <tbody>\n",
       "    <tr>\n",
       "      <th>0</th>\n",
       "      <td>0</td>\n",
       "      <td>0.079070</td>\n",
       "      <td>0.111111</td>\n",
       "      <td>0.137931</td>\n",
       "      <td>215</td>\n",
       "      <td>63</td>\n",
       "      <td>58</td>\n",
       "      <td>17</td>\n",
       "      <td>7</td>\n",
       "      <td>8</td>\n",
       "      <td>336</td>\n",
       "      <td>32</td>\n",
       "      <td>0.095238</td>\n",
       "      <td>58</td>\n",
       "      <td>0.172619</td>\n",
       "      <td>0.042693</td>\n",
       "      <td>14.344828</td>\n",
       "      <td>0.757561</td>\n",
       "    </tr>\n",
       "    <tr>\n",
       "      <th>1</th>\n",
       "      <td>1</td>\n",
       "      <td>0.092391</td>\n",
       "      <td>0.081301</td>\n",
       "      <td>0.145833</td>\n",
       "      <td>368</td>\n",
       "      <td>123</td>\n",
       "      <td>96</td>\n",
       "      <td>34</td>\n",
       "      <td>10</td>\n",
       "      <td>14</td>\n",
       "      <td>587</td>\n",
       "      <td>58</td>\n",
       "      <td>0.098807</td>\n",
       "      <td>96</td>\n",
       "      <td>0.163543</td>\n",
       "      <td>0.047026</td>\n",
       "      <td>27.604167</td>\n",
       "      <td>0.128362</td>\n",
       "    </tr>\n",
       "    <tr>\n",
       "      <th>2</th>\n",
       "      <td>2</td>\n",
       "      <td>0.102817</td>\n",
       "      <td>0.110638</td>\n",
       "      <td>0.126829</td>\n",
       "      <td>710</td>\n",
       "      <td>235</td>\n",
       "      <td>205</td>\n",
       "      <td>73</td>\n",
       "      <td>26</td>\n",
       "      <td>26</td>\n",
       "      <td>1150</td>\n",
       "      <td>125</td>\n",
       "      <td>0.108696</td>\n",
       "      <td>205</td>\n",
       "      <td>0.178261</td>\n",
       "      <td>0.018134</td>\n",
       "      <td>20.853659</td>\n",
       "      <td>0.346555</td>\n",
       "    </tr>\n",
       "    <tr>\n",
       "      <th>3</th>\n",
       "      <td>3</td>\n",
       "      <td>0.107390</td>\n",
       "      <td>0.100694</td>\n",
       "      <td>0.118774</td>\n",
       "      <td>866</td>\n",
       "      <td>288</td>\n",
       "      <td>261</td>\n",
       "      <td>93</td>\n",
       "      <td>29</td>\n",
       "      <td>31</td>\n",
       "      <td>1415</td>\n",
       "      <td>153</td>\n",
       "      <td>0.108127</td>\n",
       "      <td>261</td>\n",
       "      <td>0.184452</td>\n",
       "      <td>0.010647</td>\n",
       "      <td>15.065134</td>\n",
       "      <td>0.321646</td>\n",
       "    </tr>\n",
       "    <tr>\n",
       "      <th>4</th>\n",
       "      <td>4</td>\n",
       "      <td>0.099740</td>\n",
       "      <td>0.110312</td>\n",
       "      <td>0.109890</td>\n",
       "      <td>1153</td>\n",
       "      <td>417</td>\n",
       "      <td>364</td>\n",
       "      <td>115</td>\n",
       "      <td>46</td>\n",
       "      <td>40</td>\n",
       "      <td>1934</td>\n",
       "      <td>201</td>\n",
       "      <td>0.103930</td>\n",
       "      <td>417</td>\n",
       "      <td>0.215615</td>\n",
       "      <td>0.006382</td>\n",
       "      <td>12.342926</td>\n",
       "      <td>0.395474</td>\n",
       "    </tr>\n",
       "  </tbody>\n",
       "</table>\n",
       "</div>"
      ],
      "text/plain": [
       "   t    rate_0    rate_1    rate_2  impressions_0  impressions_1  \\\n",
       "0  0  0.079070  0.111111  0.137931            215             63   \n",
       "1  1  0.092391  0.081301  0.145833            368            123   \n",
       "2  2  0.102817  0.110638  0.126829            710            235   \n",
       "3  3  0.107390  0.100694  0.118774            866            288   \n",
       "4  4  0.099740  0.110312  0.109890           1153            417   \n",
       "\n",
       "   impressions_2  actions_0  actions_1  actions_2  total_impressions  \\\n",
       "0             58         17          7          8                336   \n",
       "1             96         34         10         14                587   \n",
       "2            205         73         26         26               1150   \n",
       "3            261         93         29         31               1415   \n",
       "4            364        115         46         40               1934   \n",
       "\n",
       "   total_actions  total_rate  opt_impressions  opt_impressions_rate  \\\n",
       "0             32    0.095238               58              0.172619   \n",
       "1             58    0.098807               96              0.163543   \n",
       "2            125    0.108696              205              0.178261   \n",
       "3            153    0.108127              261              0.184452   \n",
       "4            201    0.103930              417              0.215615   \n",
       "\n",
       "   regret_rate     regret  value_remaining  \n",
       "0     0.042693  14.344828         0.757561  \n",
       "1     0.047026  27.604167         0.128362  \n",
       "2     0.018134  20.853659         0.346555  \n",
       "3     0.010647  15.065134         0.321646  \n",
       "4     0.006382  12.342926         0.395474  "
      ]
     },
     "execution_count": 7,
     "metadata": {},
     "output_type": "execute_result"
    }
   ],
   "source": [
    "env.show_df().head()"
   ]
  },
  {
   "cell_type": "markdown",
   "metadata": {},
   "source": [
    "## Agent"
   ]
  },
  {
   "cell_type": "markdown",
   "metadata": {},
   "source": [
    "An MAB agent solves the explore-vs-exploit dilemma. Exploitation means we choose what we know as the best choice at the current timestep, sometimes called being *greedy*; on the other hand, exploration means we try pulling other arms in order to know more about the environment. \n",
    "\n",
    "Exploiting 100% of the time is a bad idea. For instance; let us assume there are two arms `A` and `B` with true probabilities 0.1 and 0.9 and it happens that when we pull `A` it returns a conversion whereas when we pull `B` it does not. If our policy is to always exploit, we would end up pulling only `A` which has much lower return rate than `B`. This is when you do not have any experiment set up for your content at all.\n",
    "\n",
    "In contrast, if we always explore, we would end up pulling both arms randomly with expected return rates of $0.9 * 0.5 + 0.1 * 0.5 = 0.5$ instead of much higher if we could find out `B` is the better arm. This is close to what happens in a traditional A/B test during the test period.\n",
    "\n",
    "Some common policies for distributing impressions to each arm are:\n",
    "1. **Equal weights**: all arms have the same amount of traffic or a fixed amount.\n",
    "2. **Randomize**: randomly assign traffic to all arms.\n",
    "3. **Epsilon-greedy**: Assign a majority of traffic to the \"best\" arm at that time step, and the rest randomized among all arms; the degree of random traffic can be decayed by a parameter `gamma` as time goes on.\n",
    "4. **Softmax or Boltzmann exploration**: Assigns traffic equal to the softmax activation of their current return rates; regulated by temperature parameter `tau` (lower `tau` means less exploration) that can also be decayed by `gamma` over time.\n",
    "$$P(A_i) = \\frac{e^{rate_i/\\tau}}{\\sum{e^{rate_i/\\tau}}}$$\n",
    "\n",
    "5. **Upper Confidence Bound**: by utilizing Hoeffding’s Inequality, we can have a deterministic policy based on number of times the arms are pulled so far and impressions of each arm:\n",
    "\n",
    "$$A = argmax(rate_i + \\sqrt{\\frac{2\\log{t}}{impressions_i}})$$\n",
    "\n",
    "6. **Deterministic Thompson Sampling**: based on a posterior distribution (in our case a Beta distribution) for each arm, sample that number of rates. Choose the arm with the highest sampled rate.\n",
    "\n",
    "7. **Stochastic Thompson Sampling**: Instead of sampling only once, perform a Monte Carlo simulation for an arbitrary number of times, the traffic to each arm is divided by the percentage of times that arm is the best arm in the simulation."
   ]
  },
  {
   "cell_type": "code",
   "execution_count": 8,
   "metadata": {},
   "outputs": [],
   "source": [
    "class BanditAgent:\n",
    "    def __init__(self):\n",
    "        pass\n",
    "    #baselines\n",
    "    def equal_weights(self,state):\n",
    "        res = np.array([1/len(state) for i in range(len(state))])\n",
    "        return res\n",
    "    def randomize(self,state):\n",
    "        res = np.random.rand(len(state))\n",
    "        res /= res.sum()\n",
    "        return res\n",
    "    \n",
    "    #stochastic policies\n",
    "    def eps_greedy(self, state, t, start_eps=0.3, end_eps=0.01, gamma=0.99):\n",
    "        eps = max(end_eps,start_eps * gamma**t)\n",
    "        res = np.array([eps/len(state) for i in range(len(state))])\n",
    "        best_idx = np.argmax([i[1]/i[0] for i in state]) if t > 0 else np.random.choice(range(len(state)))\n",
    "        res[best_idx] += 1-eps\n",
    "        return res\n",
    "    def softmax(self, state, t, start_tau=1e-1, end_tau=1e-4, gamma=0.9):\n",
    "        tau = max(end_tau,start_tau*gamma**t)\n",
    "        sum_exp = sum([np.exp(i[1]/(i[0]+1e6)/tau) for i in state])\n",
    "        res = np.array([np.exp(i[1]/(i[0]+1e6)/tau) / sum_exp for i in state])\n",
    "        return res\n",
    "    \n",
    "    #deterministic policies\n",
    "    def ucb(self, state, t):\n",
    "        for i in state:\n",
    "            if i[0]==0:\n",
    "                return self.equal_weights(state)\n",
    "        res = [(i[1]/i[0] + np.sqrt(2*np.log(t+1)/i[0])) for i in state]\n",
    "        res = np.array(res)\n",
    "        res_d = np.zeros(len(state))\n",
    "        res_d[np.argmax(res)] = 1\n",
    "        return res_d\n",
    "    def thompson_deterministic(self, state):\n",
    "        res = [np.random.beta(i[1]+1,i[0]-i[1]+1) for i in state]\n",
    "        res = np.array(res)\n",
    "        res_d = np.zeros(len(state))\n",
    "        res_d[np.argmax(res)] = 1\n",
    "        return res_d\n",
    "    \n",
    "    #thompsons\n",
    "    def thompson_one(self,state):\n",
    "        res = [np.random.beta(i[1]+1,i[0]-i[1]+1) for i in state]\n",
    "        res = np.array(res)\n",
    "        return res\n",
    "    def thompson_stochastic(self,state,n=1000):\n",
    "        l = []\n",
    "        for i in range(n): l.append(self.thompson_one(state)[None,:])\n",
    "        l = np.concatenate(l,0)\n",
    "        is_max = l.max(1)[:,None] == l\n",
    "        return is_max.mean(0)"
   ]
  },
  {
   "cell_type": "markdown",
   "metadata": {},
   "source": [
    "## Stopping Criteria: Value Remaining\n",
    "Stopping criteria for MAB experiments such as ROPE and expected loss as described in [Bayesian A/B Testing: a step-by-step guide](http://www.claudiobellei.com/2017/11/02/bayesian-AB-testing/); here we are using **value remaining** as introduced by [Google](https://support.google.com/analytics/answer/2846882?hl=en). Value remaining per round of experiment is defined as:\n",
    "\n",
    "$$V_t = \\frac{rate_{max}-rate_{opt}}{rate_{opt}}$$\n",
    "\n",
    "As experiment goes on, we plot the distribution of $V_t$ and stops when the $1-\\alpha$ percentile is lower than our threshold. Intuitively, this is to say that we are $1-\\alpha$% confident that our \"best\" arm might be beaten by the margin equals to the threshold. For practical purpose, we try 95th percentile and threshold of 0.01."
   ]
  },
  {
   "cell_type": "markdown",
   "metadata": {},
   "source": [
    "## Simulation Results"
   ]
  },
  {
   "cell_type": "markdown",
   "metadata": {},
   "source": [
    "We simulate 3 campaigns with true probabilities of 12%, 13% and 14% respectively. Our number of overall impressions is 400 on average."
   ]
  },
  {
   "cell_type": "code",
   "execution_count": 9,
   "metadata": {},
   "outputs": [
    {
     "data": {
      "text/plain": [
       "(array([0.33333333, 0.33333333, 0.33333333]),\n",
       " array([0.26619061, 0.4007979 , 0.33301149]),\n",
       " array([0.08261686, 0.08261686, 0.83476628]),\n",
       " array([0.33281632, 0.33308746, 0.33409622]),\n",
       " array([0.022, 0.169, 0.809]),\n",
       " array([0., 0., 1.]),\n",
       " array([0., 1., 0.]))"
      ]
     },
     "execution_count": 9,
     "metadata": {},
     "output_type": "execute_result"
    }
   ],
   "source": [
    "env = MusketeerEnv(true_ps = [0.12,0.13,0.14], avg_impressions=400)\n",
    "a = BanditAgent()\n",
    "for i in range(20):\n",
    "    p = a.equal_weights(env.get_state())\n",
    "    env.step(p)\n",
    "    t=i\n",
    "a.equal_weights(env.get_state()), a.randomize(env.get_state()), a.eps_greedy(env.get_state(),t),\\\n",
    "a.softmax(env.get_state(),t), a.thompson_stochastic(env.get_state()), \\\n",
    "a.ucb(env.get_state(),t), a.thompson_deterministic(env.get_state())"
   ]
  },
  {
   "cell_type": "code",
   "execution_count": 10,
   "metadata": {},
   "outputs": [],
   "source": [
    "envs = [MusketeerEnv(true_ps = [0.12,0.13,0.14], avg_impressions=400) for i in range(7)]\n",
    "a = BanditAgent()\n",
    "for t in range(200):\n",
    "    states = [env.get_state() for env in envs]\n",
    "    actions = [a.equal_weights(states[0]), a.randomize(states[1]),\n",
    "               a.eps_greedy(states[2],t), a.softmax(states[3],t),\n",
    "               a.thompson_stochastic(states[4]),\n",
    "               a.ucb(states[5],t), a.thompson_deterministic(states[6])]\n",
    "    for i in range(7): envs[i].step(actions[i])\n",
    "dfs = [env.show_df() for env in envs]\n",
    "policies = ['equal_weights','randomize','eps_greedy','softmax','thompson_stochastic',\n",
    "            'ucb','thompson_deterministic']\n",
    "for i in range(7): dfs[i]['policy'] = policies[i]\n",
    "df = pd.concat(dfs)[['policy','t','opt_impressions_rate','regret_rate','regret','value_remaining']]"
   ]
  },
  {
   "cell_type": "code",
   "execution_count": 11,
   "metadata": {},
   "outputs": [
    {
     "data": {
      "text/html": [
       "<div>\n",
       "<style scoped>\n",
       "    .dataframe tbody tr th:only-of-type {\n",
       "        vertical-align: middle;\n",
       "    }\n",
       "\n",
       "    .dataframe tbody tr th {\n",
       "        vertical-align: top;\n",
       "    }\n",
       "\n",
       "    .dataframe thead th {\n",
       "        text-align: right;\n",
       "    }\n",
       "</style>\n",
       "<table border=\"1\" class=\"dataframe\">\n",
       "  <thead>\n",
       "    <tr style=\"text-align: right;\">\n",
       "      <th></th>\n",
       "      <th>policy</th>\n",
       "      <th>t</th>\n",
       "      <th>opt_impressions_rate</th>\n",
       "      <th>regret_rate</th>\n",
       "      <th>regret</th>\n",
       "      <th>value_remaining</th>\n",
       "    </tr>\n",
       "  </thead>\n",
       "  <tbody>\n",
       "    <tr>\n",
       "      <th>195</th>\n",
       "      <td>thompson_deterministic</td>\n",
       "      <td>195</td>\n",
       "      <td>0.901577</td>\n",
       "      <td>0.001223</td>\n",
       "      <td>95.707818</td>\n",
       "      <td>0.000000</td>\n",
       "    </tr>\n",
       "    <tr>\n",
       "      <th>196</th>\n",
       "      <td>thompson_deterministic</td>\n",
       "      <td>196</td>\n",
       "      <td>0.902089</td>\n",
       "      <td>0.001204</td>\n",
       "      <td>94.671467</td>\n",
       "      <td>0.001054</td>\n",
       "    </tr>\n",
       "    <tr>\n",
       "      <th>197</th>\n",
       "      <td>thompson_deterministic</td>\n",
       "      <td>197</td>\n",
       "      <td>0.902500</td>\n",
       "      <td>0.001199</td>\n",
       "      <td>94.707194</td>\n",
       "      <td>0.000035</td>\n",
       "    </tr>\n",
       "    <tr>\n",
       "      <th>198</th>\n",
       "      <td>thompson_deterministic</td>\n",
       "      <td>198</td>\n",
       "      <td>0.902949</td>\n",
       "      <td>0.001190</td>\n",
       "      <td>94.458930</td>\n",
       "      <td>0.000680</td>\n",
       "    </tr>\n",
       "    <tr>\n",
       "      <th>199</th>\n",
       "      <td>thompson_deterministic</td>\n",
       "      <td>199</td>\n",
       "      <td>0.903476</td>\n",
       "      <td>0.001184</td>\n",
       "      <td>94.459413</td>\n",
       "      <td>0.000656</td>\n",
       "    </tr>\n",
       "  </tbody>\n",
       "</table>\n",
       "</div>"
      ],
      "text/plain": [
       "                     policy    t  opt_impressions_rate  regret_rate  \\\n",
       "195  thompson_deterministic  195              0.901577     0.001223   \n",
       "196  thompson_deterministic  196              0.902089     0.001204   \n",
       "197  thompson_deterministic  197              0.902500     0.001199   \n",
       "198  thompson_deterministic  198              0.902949     0.001190   \n",
       "199  thompson_deterministic  199              0.903476     0.001184   \n",
       "\n",
       "        regret  value_remaining  \n",
       "195  95.707818         0.000000  \n",
       "196  94.671467         0.001054  \n",
       "197  94.707194         0.000035  \n",
       "198  94.458930         0.000680  \n",
       "199  94.459413         0.000656  "
      ]
     },
     "execution_count": 11,
     "metadata": {},
     "output_type": "execute_result"
    }
   ],
   "source": [
    "df.tail()"
   ]
  },
  {
   "cell_type": "code",
   "execution_count": 12,
   "metadata": {},
   "outputs": [
    {
     "data": {
      "text/html": [
       "<div>\n",
       "<style scoped>\n",
       "    .dataframe tbody tr th:only-of-type {\n",
       "        vertical-align: middle;\n",
       "    }\n",
       "\n",
       "    .dataframe tbody tr th {\n",
       "        vertical-align: top;\n",
       "    }\n",
       "\n",
       "    .dataframe thead th {\n",
       "        text-align: right;\n",
       "    }\n",
       "</style>\n",
       "<table border=\"1\" class=\"dataframe\">\n",
       "  <thead>\n",
       "    <tr style=\"text-align: right;\">\n",
       "      <th></th>\n",
       "      <th>policy</th>\n",
       "      <th>t</th>\n",
       "      <th>variable</th>\n",
       "      <th>value</th>\n",
       "    </tr>\n",
       "  </thead>\n",
       "  <tbody>\n",
       "    <tr>\n",
       "      <th>5595</th>\n",
       "      <td>thompson_deterministic</td>\n",
       "      <td>195</td>\n",
       "      <td>value_remaining</td>\n",
       "      <td>0.000000</td>\n",
       "    </tr>\n",
       "    <tr>\n",
       "      <th>5596</th>\n",
       "      <td>thompson_deterministic</td>\n",
       "      <td>196</td>\n",
       "      <td>value_remaining</td>\n",
       "      <td>0.001054</td>\n",
       "    </tr>\n",
       "    <tr>\n",
       "      <th>5597</th>\n",
       "      <td>thompson_deterministic</td>\n",
       "      <td>197</td>\n",
       "      <td>value_remaining</td>\n",
       "      <td>0.000035</td>\n",
       "    </tr>\n",
       "    <tr>\n",
       "      <th>5598</th>\n",
       "      <td>thompson_deterministic</td>\n",
       "      <td>198</td>\n",
       "      <td>value_remaining</td>\n",
       "      <td>0.000680</td>\n",
       "    </tr>\n",
       "    <tr>\n",
       "      <th>5599</th>\n",
       "      <td>thompson_deterministic</td>\n",
       "      <td>199</td>\n",
       "      <td>value_remaining</td>\n",
       "      <td>0.000656</td>\n",
       "    </tr>\n",
       "  </tbody>\n",
       "</table>\n",
       "</div>"
      ],
      "text/plain": [
       "                      policy    t         variable     value\n",
       "5595  thompson_deterministic  195  value_remaining  0.000000\n",
       "5596  thompson_deterministic  196  value_remaining  0.001054\n",
       "5597  thompson_deterministic  197  value_remaining  0.000035\n",
       "5598  thompson_deterministic  198  value_remaining  0.000680\n",
       "5599  thompson_deterministic  199  value_remaining  0.000656"
      ]
     },
     "execution_count": 12,
     "metadata": {},
     "output_type": "execute_result"
    }
   ],
   "source": [
    "df_m = df.melt(id_vars=['policy','t'])\n",
    "df_m.tail()"
   ]
  },
  {
   "cell_type": "markdown",
   "metadata": {},
   "source": [
    "With our initial agent parameters, we obtain the following results. We can see that stochastic Thompson sampling learns the fastest and is the most stable policy. "
   ]
  },
  {
   "cell_type": "code",
   "execution_count": 13,
   "metadata": {},
   "outputs": [
    {
     "data": {
      "image/png": "[encoded data removed]",
      "text/plain": [
       "<Figure size 640x480 with 4 Axes>"
      ]
     },
     "metadata": {
      "needs_background": "light"
     },
     "output_type": "display_data"
    },
    {
     "data": {
      "text/plain": [
       "<ggplot: (-9223363281674880922)>"
      ]
     },
     "execution_count": 13,
     "metadata": {},
     "output_type": "execute_result"
    }
   ],
   "source": [
    "g = (ggplot(df_m, aes(x='t',y='value',color='policy',group='policy')) +\n",
    "    geom_line() + theme_minimal() + facet_wrap('~variable',scales='free_y'))\n",
    "g"
   ]
  },
  {
   "cell_type": "markdown",
   "metadata": {},
   "source": [
    "## References"
   ]
  },
  {
   "cell_type": "markdown",
   "metadata": {},
   "source": [
    "Here are some useful resources reviewed for this notebook."
   ]
  },
  {
   "cell_type": "markdown",
   "metadata": {},
   "source": [
    "- [tl;dr Bayesian A/B test](https://medium.com/hockey-stick/tl-dr-bayesian-a-b-testing-with-python-c495d375db4d)\n",
    "- [Bayesian A/B Testing: a step-by-step guide](http://www.claudiobellei.com/2017/11/02/bayesian-AB-testing/)\n",
    "- [Bayesian Coin Flips](https://www.thomasjpfan.com/2015/09/bayesian-coin-flips/)\n",
    "- [Multi-Arm Bandits: a potential alternative to A/B tests](https://medium.com/brillio-data-science/multi-arm-bandits-a-potential-alternative-to-a-b-tests-a647d9bf2a7e)\n",
    "- [Multi Armed Bandits and Exploration Strategies](https://sudeepraja.github.io/Bandits/)\n",
    "- [MAB Google](https://support.google.com/analytics/answer/2846882?hl=en)"
   ]
  }
 ],
 "metadata": {
  "kernelspec": {
   "display_name": "Python 3",
   "language": "python",
   "name": "python3"
  },
  "language_info": {
   "codemirror_mode": {
    "name": "ipython",
    "version": 3
   },
   "file_extension": ".py",
   "mimetype": "text/x-python",
   "name": "python",
   "nbconvert_exporter": "python",
   "pygments_lexer": "ipython3",
   "version": "3.6.8"
  }
 },
 "nbformat": 4,
 "nbformat_minor": 2
}
