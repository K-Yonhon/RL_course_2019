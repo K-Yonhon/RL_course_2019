{
 "cells": [
  {
   "cell_type": "markdown",
   "metadata": {},
   "source": [
    "# PPO to Play `CartPole-v1` in Tensorflow 2.0"
   ]
  },
  {
   "cell_type": "markdown",
   "metadata": {},
   "source": [
    "As usual, our easiest way to test if we have implemented an agent correctly is to test it on a simple environment such as `CartPole-v1` or `MountainCar-v0`. Here we used the [PPO-clip](https://spinningup.openai.com/en/latest/algorithms/ppo.html#pseudocode) implementation in Pytorch from [eungeunrho/minimalRL](https://github.com/seungeunrho/minimalRL) as base to create our TF2 agent. This implementation is especially interesting in that it is written in a way that the agent itself is treated as a differentiable model and we can optimize the actor and critic simultaneously by apply gradients to the entire agent."
   ]
  },
  {
   "cell_type": "markdown",
   "metadata": {},
   "source": [
    "## Imports"
   ]
  },
  {
   "cell_type": "code",
   "execution_count": 6,
   "metadata": {},
   "outputs": [],
   "source": [
    "# #uncomment if you are running from colab\n",
    "# # %tensorflow_version 2.x\n",
    "# !pip install tensorflow-probability==0.8\n",
    "# import tensorflow_probability as tfp\n",
    "# !git clone https://github.com/cstorm125/lepetite.git\n",
    "# !mv lepetite lepetite_folder\n",
    "# !mv lepetite_folder/lepetite .\n",
    "# !ls"
   ]
  },
  {
   "cell_type": "code",
   "execution_count": 2,
   "metadata": {},
   "outputs": [
    {
     "name": "stdout",
     "output_type": "stream",
     "text": [
      "The autoreload extension is already loaded. To reload it, use:\n",
      "  %reload_ext autoreload\n"
     ]
    }
   ],
   "source": [
    "%load_ext autoreload\n",
    "%autoreload 2\n",
    "\n",
    "import tensorflow as tf\n",
    "from tensorflow.keras import layers, Model\n",
    "import tensorflow_probability as tfp\n",
    "\n",
    "import gym\n",
    "from collections import deque\n",
    "from tqdm import tqdm_notebook\n",
    "import numpy as np\n",
    "import matplotlib.pyplot as plt\n",
    "\n",
    "from lepetite import agents "
   ]
  },
  {
   "cell_type": "markdown",
   "metadata": {},
   "source": [
    "## PPO-Clip Agent"
   ]
  },
  {
   "cell_type": "markdown",
   "metadata": {},
   "source": [
    "Proximal policy optimization (PPO) is a policy gradient algorithm that sorts to find the largest improvement step that does not destabilize the training. Instead of finding trust regions like TRPO, PPO instead resort to using either constant bounds (PPO-Clip) or KL divergence term penalty (PPO-Penalty). Here we will implement PPO-Clip as a `Model` in Tensorflow 2."
   ]
  },
  {
   "cell_type": "markdown",
   "metadata": {},
   "source": [
    "## Networks"
   ]
  },
  {
   "cell_type": "markdown",
   "metadata": {},
   "source": [
    "Like all policy gradient agents that use advantage as a baseline, PPO requires \n",
    "\n",
    "1. **Actor network** to take input of state and output action probabilities\n",
    "2. **Critic network** to take input of state and output state values\n",
    "\n",
    "**Coding Assignment** Implement an actor and a critic for our PPO agent. The actor and critic can share a feature extraction layer."
   ]
  },
  {
   "cell_type": "code",
   "execution_count": null,
   "metadata": {},
   "outputs": [],
   "source": [
    "class PPOCategorical(Model):\n",
    "    def __init__(self, input_dim = 4, hidden_dims = [64], output_dim = 2, lr = 5e-4,\n",
    "                gamma=1, lamb=0.95, eps_clip=0.1):\n",
    "        super(PPOCategorical, self).__init__()\n",
    "        self.input_dim = input_dim\n",
    "        self.hidden_dims = hidden_dims\n",
    "        self.output_dim = output_dim\n",
    "        self.lr = lr\n",
    "        self.gamma = gamma\n",
    "        self.lamb = lamb\n",
    "        self.eps_clip = eps_clip\n",
    "        \n",
    "        self.loss_lst = []\n",
    "        self.trajectories = []\n",
    "        \n",
    "        '''\n",
    "        Fill in the codes\n",
    "        '''\n",
    "#         self.features  = tf.keras.Sequential()\n",
    "#         self.actor = tf.keras.Sequential()\n",
    "#         self.critic  = tf.keras.Sequential()\n",
    "        \n",
    "        self.optimizer = tf.keras.optimizers.Adam(learning_rate=self.lr)\n",
    "        \n",
    "    def act(self, x):\n",
    "        '''\n",
    "        Fill in the codes\n",
    "        '''\n",
    "        pass\n",
    "    \n",
    "    def critique(self, x):\n",
    "        '''\n",
    "        Fill in the codes\n",
    "        '''\n",
    "        pass"
   ]
  },
  {
   "cell_type": "code",
   "execution_count": null,
   "metadata": {},
   "outputs": [],
   "source": [
    "env = gym.make('CartPole-v1')\n",
    "state = env.reset()\n",
    "state = tf.convert_to_tensor(state,dtype=tf.float32)[None,:]\n",
    "state"
   ]
  },
  {
   "cell_type": "markdown",
   "metadata": {},
   "source": [
    "## Trajectories"
   ]
  },
  {
   "cell_type": "markdown",
   "metadata": {},
   "source": [
    "Unlike value-based strategies like DQN, PPO is an on-policy algorithm and only uses the **trajectories** that result from the current interactions with the environment. It does not save those trajectories `(states,actions,rewards,next_states,probs,dones)` to replay memory to be used later like DQN."
   ]
  },
  {
   "cell_type": "code",
   "execution_count": null,
   "metadata": {},
   "outputs": [],
   "source": [
    "def add(self, *args):\n",
    "    t = {'state':args[0],'action':args[1],'reward':args[2],\n",
    "         'next_state':args[3],'prob':args[4],'done':args[5]}\n",
    "    self.trajectories.append(t)\n",
    "\n",
    "def make_batch(self):\n",
    "    states = tf.convert_to_tensor([t['state'] for t in self.trajectories],dtype=tf.float32)\n",
    "    actions = tf.convert_to_tensor([[t['action']] for t in self.trajectories],dtype=tf.int32)\n",
    "    rewards = tf.convert_to_tensor([[t['reward']] for t in self.trajectories],dtype=tf.float32)\n",
    "    next_states = tf.convert_to_tensor([t['next_state'] for t in self.trajectories],dtype=tf.float32)\n",
    "    probs = tf.convert_to_tensor([[t['prob']] for t in self.trajectories],dtype=tf.float32)\n",
    "    dones = tf.convert_to_tensor([[float(t['done'])] for t in self.trajectories],dtype=tf.float32)\n",
    "    self.trajectories = []\n",
    "    return states,actions,rewards,next_states,probs,dones"
   ]
  },
  {
   "cell_type": "markdown",
   "metadata": {},
   "source": [
    "## [Generalized Advantage Estimation (GAE)](https://arxiv.org/abs/1506.02438)"
   ]
  },
  {
   "cell_type": "markdown",
   "metadata": {},
   "source": [
    "Recall [N-step bootstrapping](http://incompleteideas.net/book/bookdraft2017nov5.pdf) from [Rainbow](https://github.com/ekapolc/RL_course_2019/blob/master/slides/L07%20-%20practical%20rl%20and%20rainbow.ipynb):\n",
    "\n",
    "* Monte Carlo\n",
    "$$G_t = R_{t+1} + \\gamma R_{t+2} + \\gamma^2 R_{t+3} + ... + \\gamma^T-t-1 R_{terminal}$$\n",
    "* TD (1-step bootstrapping)\n",
    "$$G_t = R_{t+1} + \\gamma V_t(S_{t+1})$$\n",
    "* 2-step bootstrapping\n",
    "$$G_t = R_{t+1} + \\gamma R_{t+2} + \\gamma^2 V_t(S_{t+2})$$\n",
    "* N-step bootstrapping\n",
    "$$G_t = R_{t+1} + \\gamma R_{t+2} + \\gamma^2 R_{t+3} + ... + \\gamma^{n-1}R_{t+n} + \\gamma^n V_{t+n-1}(S_{t+n})$$\n",
    "\n",
    "\n",
    "![nstep.png](https://i.postimg.cc/JzsjZKZW/nstep.png)\n",
    "\n",
    "This is done in order to balance the bias (low in Monte Carlo) versus variance (low in TD) tradeoff. GAE is simply taking this concept further by exponentially weighting each n-step return $G^{n}_t$ by $\\lambda$. Here you can substitute discounted rewards with advantage $A^{n}_t$ also.\n",
    "\n",
    "\\begin{align}\n",
    "\\hat{A}_t^{GAE(\\gamma,\\lambda)} &= (1-\\lambda)\\Big(\\hat{A}_{t}^{(1)} + \\lambda \\hat{A}_{t}^{(2)} + \\lambda^2 \\hat{A}_{t}^{(3)} + \\cdots \\Big) \\\\\n",
    "&= (1-\\lambda)\\Big(\\delta_t^V + \\lambda(\\delta_t^V + \\gamma \\delta_{t+1}^V) + \\lambda^2(\\delta_t^V + \\gamma \\delta_{t+1}^V + \\gamma^2 \\delta_{t+2}^V)+ \\cdots \\Big)  \\\\\n",
    "&= (1-\\lambda)\\Big( \\delta_t^V(1+\\lambda+\\lambda^2+\\cdots) + \\gamma\\delta_{t+1}^V(\\lambda+\\lambda^2+\\cdots) + \\cdots \\Big) \\\\\n",
    "&= (1-\\lambda)\\left(\\delta_t^V \\frac{1}{1-\\lambda} + \\gamma \\delta_{t+1}^V\\frac{\\lambda}{1-\\lambda} + \\cdots\\right) \\\\\n",
    "&= \\sum_{l=0}^\\infty (\\gamma \\lambda)^l \\delta_{t+l}^{V}\n",
    "\\end{align}"
   ]
  },
  {
   "cell_type": "code",
   "execution_count": null,
   "metadata": {},
   "outputs": [],
   "source": [
    "g = [1,2,4,8,16]\n",
    "gamma = 0.9\n",
    "lamb = 0.5\n",
    "adv = 0\n",
    "adv_list = []\n",
    "for g_t in g[::-1]:\n",
    "    adv = (gamma*lamb*adv) + g_t\n",
    "    print(f'g_t is {g_t} and adv is {adv}')\n",
    "    adv_list.append(adv)\n",
    "res_list.reverse()\n",
    "print(res_list)"
   ]
  },
  {
   "cell_type": "code",
   "execution_count": null,
   "metadata": {},
   "outputs": [],
   "source": [
    "def compute_gae(self, states, next_states, rewards, dones):\n",
    "    q_targets = rewards + self.gamma * self.critique(next_states) * (1-dones)\n",
    "    deltas = q_targets - self.critique(states)\n",
    "    deltas = deltas.numpy()\n",
    "    advantage_lst = []\n",
    "    advantage = 0.0\n",
    "    for delta_t in deltas[::-1]:\n",
    "        advantage = (self.gamma * self.lamb * advantage) + delta_t[0]\n",
    "        advantage_lst.append([advantage])\n",
    "    advantage_lst.reverse()\n",
    "    advantages = tf.convert_to_tensor(advantage_lst, dtype=tf.float32)\n",
    "    return advantages"
   ]
  },
  {
   "cell_type": "markdown",
   "metadata": {},
   "source": [
    "## Clipped Surrogate Function and Critic Loss"
   ]
  },
  {
   "cell_type": "markdown",
   "metadata": {},
   "source": [
    "For the actor network, PPO does gradient ascent for the following surrogate function: \n",
    "\n",
    "![surrogate PPO](https://spinningup.openai.com/en/latest/_images/math/99621d5bcaccd056d6ca3aeb48a27bf8cc0e640c.svg)\n",
    "\n",
    "This is basically the same as a typical actor-critic surrogate function except for the clipping for log-probability ratio.\n",
    "\n",
    "For the critic network, PPO performs gradient descent for the loss comparing state value with the TD target.\n",
    "\n",
    "**Coding Assignment** Fill in the codes for actor loss."
   ]
  },
  {
   "cell_type": "code",
   "execution_count": null,
   "metadata": {},
   "outputs": [],
   "source": [
    "def train(self, update_times=3):\n",
    "    states,actions,rewards,next_states,probs,dones  = self.make_batch()\n",
    "    for i in range(update_times):\n",
    "        #q targets to optimize critic\n",
    "        q_targets = rewards + self.gamma * self.critique(next_states) * (1-dones)\n",
    "        #advantages to optimize actor\n",
    "        advantages = self.compute_gae(states,next_states,rewards,dones)\n",
    "\n",
    "        #train\n",
    "        with tf.GradientTape() as tape:\n",
    "            \n",
    "            #actor loss\n",
    "            preds = self.act(states)\n",
    "            action_idxs = tf.stack([tf.range(tf.shape(actions)[0]),actions[:,0]],axis=-1)\n",
    "            preds_a = tf.gather_nd(preds,action_idxs)[:,None]\n",
    "            \n",
    "            '''\n",
    "            Fill in the codes\n",
    "            '''\n",
    "#             ratio = 0\n",
    "#             surr1 = 0\n",
    "#             surr2 = 0\n",
    "#             actor_loss = 0\n",
    "            \n",
    "            #critic loss\n",
    "            critic_loss_fn = tf.keras.losses.MeanSquaredError()\n",
    "            critic_loss = critic_loss_fn(q_targets, self.critique(states))\n",
    "            \n",
    "            #combined loss\n",
    "            loss = -actor_loss + critic_loss\n",
    "            loss = tf.reduce_mean(loss)\n",
    "            gradients = tape.gradient(loss, self.trainable_weights)\n",
    "        self.optimizer.apply_gradients(zip(gradients,self.trainable_weights))\n",
    "        self.loss_lst.append(loss.numpy())"
   ]
  },
  {
   "cell_type": "markdown",
   "metadata": {},
   "source": [
    "## Training Loop"
   ]
  },
  {
   "cell_type": "markdown",
   "metadata": {},
   "source": [
    "**Coding Assignment** With the help of `tensorflow_probability` library, output probability for each action then sample from a categorical distribution (`distributions.Categorical`) based on that probability. Run the training loop to see if the agent is learning."
   ]
  },
  {
   "cell_type": "code",
   "execution_count": null,
   "metadata": {},
   "outputs": [],
   "source": [
    "scores_deque = deque(maxlen=100) \n",
    "scores_mean = []\n",
    "scores = []\n",
    "env = gym.make('CartPole-v1')\n",
    "agent = agents.PPOCategorical()\n",
    "trajectory_len = 20\n",
    "\n",
    "for e in tqdm_notebook(range(500)):\n",
    "    state = env.reset()\n",
    "    done = False\n",
    "    score = 0\n",
    "    while not done:\n",
    "        for t in range(trajectory_len):\n",
    "            '''\n",
    "            Fill in the codes\n",
    "            '''\n",
    "#             prob = 0\n",
    "#             m = 0\n",
    "#             action = 0\n",
    "            \n",
    "            next_state, reward, done, info = env.step(action)\n",
    "            score+=reward\n",
    "            agent.add(state, action, reward/100, next_state, prob[0,action].numpy(), done)\n",
    "            state = next_state\n",
    "            if done: break\n",
    "        agent.train()\n",
    "    scores.append(score)\n",
    "    scores_deque.append(score)\n",
    "    scores_mean.append(np.mean(scores_deque))\n",
    "\n",
    "    if e%100==0:\n",
    "        print(f'Episode {e}: 100-episode moving average at {scores_mean[-1]}')\n",
    "    if scores_mean[-1] > 100: \n",
    "        print(f'Solved at {e} {scores_mean[-1]}')\n",
    "        break\n",
    "\n",
    "env.close()"
   ]
  },
  {
   "cell_type": "markdown",
   "metadata": {},
   "source": [
    "## Solutions"
   ]
  },
  {
   "cell_type": "code",
   "execution_count": 4,
   "metadata": {},
   "outputs": [
    {
     "name": "stdout",
     "output_type": "stream",
     "text": [
      "\u001b[33mWARN: gym.spaces.Box autodetected dtype as <class 'numpy.float32'>. Please provide explicit dtype.\u001b[0m\n"
     ]
    },
    {
     "data": {
      "application/vnd.jupyter.widget-view+json": {
       "model_id": "253ad7707619470b8e4c8badf179cdd5",
       "version_major": 2,
       "version_minor": 0
      },
      "text/plain": [
       "HBox(children=(IntProgress(value=0, max=500), HTML(value='')))"
      ]
     },
     "metadata": {},
     "output_type": "display_data"
    },
    {
     "name": "stdout",
     "output_type": "stream",
     "text": [
      "Episode 0: 100-episode moving average at 29.0\n",
      "Episode 100: 100-episode moving average at 28.93\n",
      "Solved at 182 101.99\n"
     ]
    }
   ],
   "source": [
    "scores_deque = deque(maxlen=100) \n",
    "scores_mean = []\n",
    "scores = []\n",
    "env = gym.make('CartPole-v1')\n",
    "agent = agents.PPOCategorical()\n",
    "trajectory_len = 20\n",
    "\n",
    "for e in tqdm_notebook(range(500)):\n",
    "    state = env.reset()\n",
    "    done = False\n",
    "    score = 0\n",
    "    while not done:\n",
    "        for t in range(trajectory_len):\n",
    "            '''\n",
    "            Fill in the codes\n",
    "            '''\n",
    "            prob = agent.act(tf.convert_to_tensor(state,dtype=tf.float32)[None,:])\n",
    "            m = tfp.distributions.Categorical(probs=prob)\n",
    "            action = m.sample().numpy()[0]\n",
    "            \n",
    "            next_state, reward, done, info = env.step(action)\n",
    "            score+=reward\n",
    "            agent.add(state, action, reward/100, next_state, prob[0,action].numpy(), done)\n",
    "            state = next_state\n",
    "            if done: break\n",
    "        agent.train()\n",
    "    scores.append(score)\n",
    "    scores_deque.append(score)\n",
    "    scores_mean.append(np.mean(scores_deque))\n",
    "\n",
    "    if e%100==0:\n",
    "        print(f'Episode {e}: 100-episode moving average at {scores_mean[-1]}')\n",
    "    if scores_mean[-1] > 100: \n",
    "        print(f'Solved at {e} {scores_mean[-1]}')\n",
    "        break\n",
    "\n",
    "env.close()"
   ]
  },
  {
   "cell_type": "code",
   "execution_count": 7,
   "metadata": {},
   "outputs": [
    {
     "data": {
      "text/plain": [
       "[<matplotlib.lines.Line2D at 0x7f9331f403c8>]"
      ]
     },
     "execution_count": 7,
     "metadata": {},
     "output_type": "execute_result"
    },
    {
     "data": {
      "image/png": "[encoded data removed]",
      "text/plain": [
       "<Figure size 432x288 with 1 Axes>"
      ]
     },
     "metadata": {
      "needs_background": "light"
     },
     "output_type": "display_data"
    }
   ],
   "source": [
    "plt.plot(agent.loss_lst)"
   ]
  },
  {
   "cell_type": "code",
   "execution_count": 8,
   "metadata": {},
   "outputs": [
    {
     "data": {
      "text/plain": [
       "[<matplotlib.lines.Line2D at 0x7f9330605f60>]"
      ]
     },
     "execution_count": 8,
     "metadata": {},
     "output_type": "execute_result"
    },
    {
     "data": {
      "image/png": "[encoded data removed]",
      "text/plain": [
       "<Figure size 432x288 with 1 Axes>"
      ]
     },
     "metadata": {
      "needs_background": "light"
     },
     "output_type": "display_data"
    }
   ],
   "source": [
    "plt.plot(scores)\n",
    "plt.plot(scores_mean)"
   ]
  },
  {
   "cell_type": "code",
   "execution_count": null,
   "metadata": {},
   "outputs": [],
   "source": []
  }
 ],
 "metadata": {
  "kernelspec": {
   "display_name": "Python 3",
   "language": "python",
   "name": "python3"
  },
  "language_info": {
   "codemirror_mode": {
    "name": "ipython",
    "version": 3
   },
   "file_extension": ".py",
   "mimetype": "text/x-python",
   "name": "python",
   "nbconvert_exporter": "python",
   "pygments_lexer": "ipython3",
   "version": "3.6.8"
  }
 },
 "nbformat": 4,
 "nbformat_minor": 2
}
