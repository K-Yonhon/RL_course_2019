{
 "cells": [
  {
   "cell_type": "markdown",
   "metadata": {},
   "source": [
    "## Minimal PPO in PyTorch and Tensorflow 2.0"
   ]
  },
  {
   "cell_type": "markdown",
   "metadata": {},
   "source": [
    "This notebook contains the codes to solve `CartPole-v1` with [PPO-Clip](https://spinningup.openai.com/en/latest/algorithms/ppo.html#pseudocode) as implemented by [eungeunrho/minimalRL](https://github.com/seungeunrho/minimalRL). You can see that the Pytorch and Tensorflow 2.0 implementation have different loss magnitude. This could be due to the fact that the layer initializations (Pytorch uses Kaiming uniform where as TF2 uses Xavier uniform for weights) and [optimizers](https://discuss.pytorch.org/t/suboptimal-convergence-when-compared-with-tensorflow-model/5099/17) of each framework are implemented in a slightly different manner. "
   ]
  },
  {
   "cell_type": "code",
   "execution_count": null,
   "metadata": {},
   "outputs": [],
   "source": [
    "# #uncomment if you are running from colab\n",
    "# %tensorflow_version 2.x\n",
    "# !pip install tensorflow-probability==0.8\n",
    "# import tensorflow_probability as tfp\n",
    "# tfp.__version__"
   ]
  },
  {
   "cell_type": "markdown",
   "metadata": {},
   "source": [
    "## PyTorch Implemenation\n",
    "\n",
    "Exactly as done by [eungeunrho/minimalRL](https://github.com/seungeunrho/minimalRL)."
   ]
  },
  {
   "cell_type": "code",
   "execution_count": 20,
   "metadata": {},
   "outputs": [
    {
     "name": "stdout",
     "output_type": "stream",
     "text": [
      "\u001b[33mWARN: gym.spaces.Box autodetected dtype as <class 'numpy.float32'>. Please provide explicit dtype.\u001b[0m\n",
      "Episode 100: 100-episode moving average score is 22.53\n",
      "Episode 200: 100-episode moving average score is 40.5\n",
      "Episode 300: 100-episode moving average score is 73.17\n",
      "Episode 400: 100-episode moving average score is 115.85\n",
      "Solved at 473 151.64\n"
     ]
    }
   ],
   "source": [
    "import gym\n",
    "import torch\n",
    "import torch.nn as nn\n",
    "import torch.nn.functional as F\n",
    "import torch.optim as optim\n",
    "from torch.distributions import Categorical\n",
    "\n",
    "from collections import deque\n",
    "import numpy as np\n",
    "import matplotlib.pyplot as plt\n",
    "\n",
    "#Hyperparameters\n",
    "learning_rate = 5e-4\n",
    "gamma         = 1\n",
    "lmbda         = 0.95\n",
    "eps_clip      = 0.1\n",
    "K_epoch       = 3\n",
    "T_horizon     = 20\n",
    "\n",
    "losses = []\n",
    "class PPO(nn.Module):\n",
    "    def __init__(self):\n",
    "        super(PPO, self).__init__()\n",
    "        self.data = []\n",
    "        \n",
    "        self.fc1   = nn.Linear(4,64)\n",
    "        self.fc_pi = nn.Linear(64,2)\n",
    "        self.fc_v  = nn.Linear(64,1)\n",
    "        self.optimizer = optim.Adam(self.parameters(), lr=learning_rate)\n",
    "\n",
    "    def pi(self, x, softmax_dim = 0):\n",
    "        x = F.relu(self.fc1(x))\n",
    "        x = self.fc_pi(x)\n",
    "        prob = F.softmax(x, dim=softmax_dim)\n",
    "        return prob\n",
    "    \n",
    "    def v(self, x):\n",
    "        x = F.relu(self.fc1(x))\n",
    "        v = self.fc_v(x)\n",
    "        return v\n",
    "      \n",
    "    def put_data(self, transition):\n",
    "        self.data.append(transition)\n",
    "        \n",
    "    def make_batch(self):\n",
    "        s_lst, a_lst, r_lst, s_prime_lst, prob_a_lst, done_lst = [], [], [], [], [], []\n",
    "        for transition in self.data:\n",
    "            s, a, r, s_prime, prob_a, done = transition\n",
    "            \n",
    "            s_lst.append(s)\n",
    "            a_lst.append([a])\n",
    "            r_lst.append([r])\n",
    "            s_prime_lst.append(s_prime)\n",
    "            prob_a_lst.append([prob_a])\n",
    "            done_mask = 0 if done else 1\n",
    "            done_lst.append([done_mask])\n",
    "            \n",
    "        s,a,r,s_prime,done_mask, prob_a = torch.tensor(s_lst, dtype=torch.float), torch.tensor(a_lst), \\\n",
    "                                          torch.tensor(r_lst), torch.tensor(s_prime_lst, dtype=torch.float), \\\n",
    "                                          torch.tensor(done_lst, dtype=torch.float), torch.tensor(prob_a_lst)\n",
    "        self.data = []\n",
    "        return s, a, r, s_prime, prob_a, done_mask\n",
    "        \n",
    "    def train_net(self):\n",
    "        s, a, r, s_prime, prob_a, done_mask = self.make_batch()\n",
    "\n",
    "        for i in range(K_epoch):\n",
    "            td_target = r + gamma * self.v(s_prime) * done_mask\n",
    "            delta = td_target - self.v(s)\n",
    "            delta = delta.detach().numpy()\n",
    "\n",
    "            advantage_lst = []\n",
    "            advantage = 0.0\n",
    "            for delta_t in delta[::-1]:\n",
    "                advantage = gamma * lmbda * advantage + delta_t[0]\n",
    "                advantage_lst.append([advantage])\n",
    "            advantage_lst.reverse()\n",
    "            advantage = torch.tensor(advantage_lst, dtype=torch.float)\n",
    "\n",
    "            pi = self.pi(s, softmax_dim=1)\n",
    "            pi_a = pi.gather(1,a)\n",
    "            ratio = torch.exp(torch.log(pi_a) - torch.log(prob_a)) \n",
    "\n",
    "            surr1 = ratio * advantage\n",
    "            surr2 = torch.clamp(ratio, 1-eps_clip, 1+eps_clip) * advantage\n",
    "            loss = -torch.min(surr1,surr2) + F.mse_loss(self.v(s) , td_target.detach())\n",
    "            losses.append(loss.mean().item())\n",
    "            self.optimizer.zero_grad()\n",
    "            loss.mean().backward()\n",
    "            self.optimizer.step()\n",
    "        \n",
    "\n",
    "scores_deque = deque(maxlen=100) \n",
    "scores_mean = []\n",
    "env = gym.make('CartPole-v1')\n",
    "model = PPO()\n",
    "\n",
    "for n_epi in range(500):\n",
    "    s = env.reset()\n",
    "    done = False\n",
    "    score = 0\n",
    "    while not done:\n",
    "        for t in range(T_horizon):\n",
    "            prob = model.pi(torch.from_numpy(s).float())\n",
    "            m = Categorical(prob)\n",
    "            a = m.sample().item()\n",
    "            s_prime, r, done, info = env.step(a)\n",
    "            score+=r\n",
    "\n",
    "            model.put_data((s, a, r, s_prime, prob[a].item(), done))\n",
    "            s = s_prime\n",
    "\n",
    "            if done:\n",
    "                break\n",
    "\n",
    "        model.train_net()\n",
    "    scores_deque.append(score)\n",
    "    scores_mean.append(np.mean(scores_deque))\n",
    "\n",
    "    if n_epi%100==0 and n_epi!=0:\n",
    "        print(f'Episode {n_epi}: 100-episode moving average score is {scores_mean[-1]}')\n",
    "    if scores_mean[-1] > 150: \n",
    "        print(f'Solved at {n_epi} {scores_mean[-1]}')\n",
    "        break\n",
    "\n",
    "env.close()\n"
   ]
  },
  {
   "cell_type": "code",
   "execution_count": 21,
   "metadata": {},
   "outputs": [
    {
     "data": {
      "text/plain": [
       "[<matplotlib.lines.Line2D at 0x7f5445d9ed68>]"
      ]
     },
     "execution_count": 21,
     "metadata": {},
     "output_type": "execute_result"
    },
    {
     "data": {
      "image/png": "[encoded data removed]",
      "text/plain": [
       "<Figure size 432x288 with 1 Axes>"
      ]
     },
     "metadata": {
      "needs_background": "light"
     },
     "output_type": "display_data"
    }
   ],
   "source": [
    "plt.plot(losses)"
   ]
  },
  {
   "cell_type": "code",
   "execution_count": 22,
   "metadata": {},
   "outputs": [
    {
     "data": {
      "text/plain": [
       "[<matplotlib.lines.Line2D at 0x7f5445e0feb8>]"
      ]
     },
     "execution_count": 22,
     "metadata": {},
     "output_type": "execute_result"
    },
    {
     "data": {
      "image/png": "[encoded data removed]",
      "text/plain": [
       "<Figure size 432x288 with 1 Axes>"
      ]
     },
     "metadata": {
      "needs_background": "light"
     },
     "output_type": "display_data"
    }
   ],
   "source": [
    "plt.plot(scores_mean)"
   ]
  },
  {
   "cell_type": "markdown",
   "metadata": {},
   "source": [
    "## Tensorflow 2.0 Implementation\n",
    "\n",
    "We translated from [eungeunrho/minimalRL](https://github.com/seungeunrho/minimalRL)."
   ]
  },
  {
   "cell_type": "code",
   "execution_count": 25,
   "metadata": {},
   "outputs": [
    {
     "name": "stdout",
     "output_type": "stream",
     "text": [
      "\u001b[33mWARN: gym.spaces.Box autodetected dtype as <class 'numpy.float32'>. Please provide explicit dtype.\u001b[0m\n",
      "Episode 100: mean average score at 35.82\n",
      "Episode 200: mean average score at 121.0\n",
      "Solved at 223 150.04\n"
     ]
    }
   ],
   "source": [
    "import tensorflow as tf\n",
    "from tensorflow.keras import layers, Model\n",
    "import tensorflow.keras.backend as K\n",
    "import tensorflow_probability as tfp\n",
    "import random\n",
    "\n",
    "import gym\n",
    "from collections import deque\n",
    "import numpy as np\n",
    "import matplotlib.pyplot as plt\n",
    "\n",
    "#Hyperparameters\n",
    "learning_rate = 5e-4\n",
    "gamma         = 1\n",
    "lmbda         = 0.95\n",
    "eps_clip      = 0.1\n",
    "K_epoch       = 3\n",
    "T_horizon     = 20\n",
    "\n",
    "losses = []\n",
    "class PPO(Model):\n",
    "    def __init__(self):\n",
    "        super(PPO, self).__init__()\n",
    "        self.data = []\n",
    "        self.fc1   = layers.Dense(64, activation='relu')#, kernel_initializer='he_uniform')\n",
    "        self.fc_pi = layers.Dense(2, activation='softmax')#, kernel_initializer='he_uniform')\n",
    "        self.fc_v  = layers.Dense(1, activation=None)#,kernel_initializer='he_uniform')\n",
    "        self.optimizer = tf.keras.optimizers.Adam(lr=learning_rate)#, amsgrad=True)\n",
    "        \n",
    "    def pi(self, x):\n",
    "        x = self.fc1(x)\n",
    "        prob = self.fc_pi(x)\n",
    "        return prob\n",
    "    \n",
    "    def v(self, x):\n",
    "        x = self.fc1(x)\n",
    "        v = self.fc_v(x)\n",
    "        return v\n",
    "      \n",
    "    def put_data(self, transition):\n",
    "        self.data.append(transition)\n",
    "        \n",
    "    def make_batch(self):\n",
    "        s_lst, a_lst, r_lst, s_prime_lst, prob_a_lst, done_lst = [], [], [], [], [], []\n",
    "        for transition in self.data:\n",
    "            s, a, r, s_prime, prob_a, done = transition\n",
    "            \n",
    "            s_lst.append(s)\n",
    "            a_lst.append([a])\n",
    "            r_lst.append([r])\n",
    "            s_prime_lst.append(s_prime)\n",
    "            prob_a_lst.append([prob_a])\n",
    "            done_mask = 0 if done else 1\n",
    "            done_lst.append([done_mask])\n",
    "            \n",
    "        s = tf.convert_to_tensor(s_lst,dtype=tf.float32)\n",
    "        a = tf.convert_to_tensor(a_lst,dtype=tf.int32)\n",
    "        r = tf.convert_to_tensor(r_lst,dtype=tf.float32)\n",
    "        s_prime = tf.convert_to_tensor(s_prime_lst,dtype=tf.float32)\n",
    "        prob_a = tf.convert_to_tensor(prob_a_lst,dtype=tf.float32)\n",
    "        done_mask = tf.convert_to_tensor(done_lst,dtype=tf.float32)\n",
    "        \n",
    "        self.data = []\n",
    "        return s, a, r, s_prime, prob_a, done_mask\n",
    "        \n",
    "    def train_net(self):\n",
    "        s, a, r, s_prime, prob_a, done_mask  = self.make_batch()\n",
    "        for i in range(K_epoch):\n",
    "            td_target = r + gamma * self.v(s_prime) * done_mask\n",
    "            delta = td_target - self.v(s)\n",
    "            delta = delta.numpy()\n",
    "\n",
    "            advantage_lst = []\n",
    "            advantage = 0.0\n",
    "            for delta_t in delta[::-1]:\n",
    "                advantage = gamma * lmbda * advantage + delta_t[0]\n",
    "                advantage_lst.append([advantage])\n",
    "            advantage_lst.reverse()\n",
    "            advantage = tf.convert_to_tensor(advantage_lst, dtype=tf.float32)\n",
    "            \n",
    "            with tf.GradientTape() as tape:\n",
    "                pi = self.pi(s)\n",
    "                idx = tf.stack([tf.range(tf.shape(a)[0]),a[:,0]],axis=-1)\n",
    "                pi_a = tf.gather_nd(pi,idx)[:,None]\n",
    "                ratio = tf.math.exp(tf.math.log(pi_a) - tf.math.log(prob_a)) \n",
    "                surr1 = ratio * advantage\n",
    "                surr2 = tf.clip_by_value(ratio, 1-eps_clip, 1+eps_clip) * advantage\n",
    "                actor_loss = tf.reduce_mean(tf.math.minimum(surr1,surr2))\n",
    "                critic_loss_fn = tf.keras.losses.MeanSquaredError()\n",
    "                critic_loss = critic_loss_fn(td_target, self.v(s))\n",
    "                loss = -actor_loss + critic_loss\n",
    "                gradients = tape.gradient(loss, self.trainable_weights)\n",
    "            self.optimizer.apply_gradients(zip(gradients,self.trainable_weights))\n",
    "            losses.append(loss.numpy())\n",
    "            \n",
    "scores_deque = deque(maxlen=100) \n",
    "scores_mean = []\n",
    "env = gym.make('CartPole-v1')\n",
    "model = PPO()\n",
    "\n",
    "for n_epi in range(500):\n",
    "    s = env.reset()\n",
    "    done = False\n",
    "    score = 0\n",
    "    while not done:\n",
    "        for t in range(T_horizon):\n",
    "            prob = model.pi(tf.convert_to_tensor(s,dtype=tf.float32)[None,:])\n",
    "            m = tfp.distributions.Categorical(probs=prob)\n",
    "            a = m.sample().numpy()[0]\n",
    "            s_prime, r, done, info = env.step(a)\n",
    "            score+=r\n",
    "            model.put_data((s, a, r/100, s_prime, prob[0,a].numpy(), done))\n",
    "            s = s_prime\n",
    "\n",
    "            if done:\n",
    "                break\n",
    "\n",
    "        model.train_net()\n",
    "    scores_deque.append(score)\n",
    "    scores_mean.append(np.mean(scores_deque))\n",
    "\n",
    "    if n_epi%100==0 and n_epi!=0:\n",
    "        print(f'Episode {n_epi}: mean average score at {scores_mean[-1]}')\n",
    "    if scores_mean[-1] > 150: \n",
    "        print(f'Solved at {n_epi} {scores_mean[-1]}')\n",
    "        break\n",
    "\n",
    "env.close()"
   ]
  },
  {
   "cell_type": "code",
   "execution_count": 26,
   "metadata": {},
   "outputs": [
    {
     "data": {
      "text/plain": [
       "[<matplotlib.lines.Line2D at 0x7f5445dcc828>]"
      ]
     },
     "execution_count": 26,
     "metadata": {},
     "output_type": "execute_result"
    },
    {
     "data": {
      "image/png": "[encoded data removed]",
      "text/plain": [
       "<Figure size 432x288 with 1 Axes>"
      ]
     },
     "metadata": {
      "needs_background": "light"
     },
     "output_type": "display_data"
    }
   ],
   "source": [
    "plt.plot(scores_mean)"
   ]
  },
  {
   "cell_type": "code",
   "execution_count": 27,
   "metadata": {},
   "outputs": [
    {
     "data": {
      "text/plain": [
       "[<matplotlib.lines.Line2D at 0x7f5445b41e48>]"
      ]
     },
     "execution_count": 27,
     "metadata": {},
     "output_type": "execute_result"
    },
    {
     "data": {
      "image/png": "[encoded data removed]",
      "text/plain": [
       "<Figure size 432x288 with 1 Axes>"
      ]
     },
     "metadata": {
      "needs_background": "light"
     },
     "output_type": "display_data"
    }
   ],
   "source": [
    "plt.plot(losses)"
   ]
  },
  {
   "cell_type": "code",
   "execution_count": 28,
   "metadata": {},
   "outputs": [
    {
     "data": {
      "text/plain": [
       "150.04"
      ]
     },
     "execution_count": 28,
     "metadata": {},
     "output_type": "execute_result"
    }
   ],
   "source": [
    "scores_mean[-1]"
   ]
  },
  {
   "cell_type": "code",
   "execution_count": null,
   "metadata": {},
   "outputs": [],
   "source": []
  }
 ],
 "metadata": {
  "kernelspec": {
   "display_name": "Python 3",
   "language": "python",
   "name": "python3"
  },
  "language_info": {
   "codemirror_mode": {
    "name": "ipython",
    "version": 3
   },
   "file_extension": ".py",
   "mimetype": "text/x-python",
   "name": "python",
   "nbconvert_exporter": "python",
   "pygments_lexer": "ipython3",
   "version": "3.6.8"
  }
 },
 "nbformat": 4,
 "nbformat_minor": 2
}
