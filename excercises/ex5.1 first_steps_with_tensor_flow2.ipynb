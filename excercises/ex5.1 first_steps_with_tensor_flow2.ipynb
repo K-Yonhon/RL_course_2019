{
 "cells": [
  {
   "cell_type": "markdown",
   "metadata": {
    "colab_type": "text",
    "id": "JndnmDMp66FL"
   },
   "source": [
    "#### Copyright 2017 Google LLC."
   ]
  },
  {
   "cell_type": "code",
   "execution_count": 1,
   "metadata": {
    "cellView": "both",
    "colab": {},
    "colab_type": "code",
    "id": "hMqWDc_m6rUC"
   },
   "outputs": [],
   "source": [
    "# Licensed under the Apache License, Version 2.0 (the \"License\");\n",
    "# you may not use this file except in compliance with the License.\n",
    "# You may obtain a copy of the License at\n",
    "#\n",
    "# https://www.apache.org/licenses/LICENSE-2.0\n",
    "#\n",
    "# Unless required by applicable law or agreed to in writing, software\n",
    "# distributed under the License is distributed on an \"AS IS\" BASIS,\n",
    "# WITHOUT WARRANTIES OR CONDITIONS OF ANY KIND, either express or implied.\n",
    "# See the License for the specific language governing permissions and\n",
    "# limitations under the License."
   ]
  },
  {
   "cell_type": "markdown",
   "metadata": {
    "colab_type": "text",
    "id": "4f3CKqFUqL2-"
   },
   "source": [
    "# First Steps with TensorFlow 2.x"
   ]
  },
  {
   "cell_type": "markdown",
   "metadata": {
    "colab_type": "text",
    "id": "qNcnN-NHKGbM"
   },
   "source": [
    "This notebook is modified from `first_steps_with_tensorflow.ipynb` to use Tensorflow 2.x instead of Tensorflow 1.x. We borrow heavily from [@fchollet's Twitter thread]() and recommend everyone to check it out."
   ]
  },
  {
   "cell_type": "markdown",
   "metadata": {
    "colab_type": "text",
    "id": "Bd2Zkk1LE2Zr"
   },
   "source": [
    "**Learning Objectives:**\n",
    "  * Learn fundamental TensorFlow 2.x concepts\n",
    "  * Create a multi-layer perceptron model in TensorFlow to predict median housing price, at the granularity of city blocks, based on nine numerical features.\n",
    "  * Evaluate the accuracy of a model's predictions using Root Mean Squared Error (RMSE)\n",
    "  * Convert the model to run on static graph for better performance"
   ]
  },
  {
   "cell_type": "markdown",
   "metadata": {
    "colab_type": "text",
    "id": "MxiIKhP4E2Zr"
   },
   "source": [
    "The [data](https://developers.google.com/machine-learning/crash-course/california-housing-data-description) is based on 1990 census data from California."
   ]
  },
  {
   "cell_type": "markdown",
   "metadata": {
    "colab_type": "text",
    "id": "6TjLjL9IU80G"
   },
   "source": [
    "## Setup\n",
    "In this first cell, we'll load the necessary libraries."
   ]
  },
  {
   "cell_type": "code",
   "execution_count": 2,
   "metadata": {
    "colab": {
     "base_uri": "https://localhost:8080/",
     "height": 51
    },
    "colab_type": "code",
    "id": "rVFf5asKE2Zt",
    "outputId": "afbc289e-360c-41ce-e174-f661a902a2c2"
   },
   "outputs": [
    {
     "name": "stdout",
     "output_type": "stream",
     "text": [
      "2.0.0-beta1\n"
     ]
    }
   ],
   "source": [
    "# #uncomment if you're running from colab\n",
    "# %tensorflow_version 2.x\n",
    "\n",
    "\n",
    "\n",
    "from IPython import display\n",
    "import math\n",
    "from matplotlib import cm\n",
    "from matplotlib import gridspec\n",
    "from matplotlib import pyplot as plt\n",
    "import numpy as np\n",
    "import pandas as pd\n",
    "from sklearn import metrics\n",
    "import datetime\n",
    "\n",
    "import tensorflow as tf\n",
    "from tensorflow.keras import layers,Model\n",
    "print(tf.__version__)"
   ]
  },
  {
   "cell_type": "markdown",
   "metadata": {
    "colab_type": "text",
    "id": "ipRyUHjhU80Q"
   },
   "source": [
    "Next, we'll load our data set."
   ]
  },
  {
   "cell_type": "code",
   "execution_count": 3,
   "metadata": {
    "colab": {},
    "colab_type": "code",
    "id": "9ivCDWnwE2Zx"
   },
   "outputs": [],
   "source": [
    "cali_df = pd.read_csv(\"https://download.mlcc.google.com/mledu-datasets/california_housing_train.csv\", sep=\",\")\n",
    "# cali_df = pd.read_csv('data/california_housing_train.csv', sep=\",\")"
   ]
  },
  {
   "cell_type": "markdown",
   "metadata": {
    "colab_type": "text",
    "id": "vVk_qlG6U80j"
   },
   "source": [
    "We'll randomize the data, just to be sure not to get any pathological ordering effects that might harm the performance of Stochastic Gradient Descent. Additionally, we'll scale `median_house_value` to be in units of thousands, so it can be learned a little more easily with learning rates in a range that we usually use."
   ]
  },
  {
   "cell_type": "code",
   "execution_count": 4,
   "metadata": {
    "colab": {
     "base_uri": "https://localhost:8080/",
     "height": 204
    },
    "colab_type": "code",
    "id": "r0eVyguIU80m",
    "outputId": "8bd3c415-6b56-4428-fb43-0c2fcee38c1e"
   },
   "outputs": [
    {
     "data": {
      "text/html": [
       "<div>\n",
       "<style scoped>\n",
       "    .dataframe tbody tr th:only-of-type {\n",
       "        vertical-align: middle;\n",
       "    }\n",
       "\n",
       "    .dataframe tbody tr th {\n",
       "        vertical-align: top;\n",
       "    }\n",
       "\n",
       "    .dataframe thead th {\n",
       "        text-align: right;\n",
       "    }\n",
       "</style>\n",
       "<table border=\"1\" class=\"dataframe\">\n",
       "  <thead>\n",
       "    <tr style=\"text-align: right;\">\n",
       "      <th></th>\n",
       "      <th>longitude</th>\n",
       "      <th>latitude</th>\n",
       "      <th>housing_median_age</th>\n",
       "      <th>total_rooms</th>\n",
       "      <th>total_bedrooms</th>\n",
       "      <th>population</th>\n",
       "      <th>households</th>\n",
       "      <th>median_income</th>\n",
       "      <th>median_house_value</th>\n",
       "    </tr>\n",
       "  </thead>\n",
       "  <tbody>\n",
       "    <tr>\n",
       "      <th>2379</th>\n",
       "      <td>-117.53</td>\n",
       "      <td>34.02</td>\n",
       "      <td>19.0</td>\n",
       "      <td>256.0</td>\n",
       "      <td>34.0</td>\n",
       "      <td>101.0</td>\n",
       "      <td>28.0</td>\n",
       "      <td>5.3269</td>\n",
       "      <td>375.0</td>\n",
       "    </tr>\n",
       "    <tr>\n",
       "      <th>7408</th>\n",
       "      <td>-118.35</td>\n",
       "      <td>33.99</td>\n",
       "      <td>45.0</td>\n",
       "      <td>1764.0</td>\n",
       "      <td>401.0</td>\n",
       "      <td>679.0</td>\n",
       "      <td>334.0</td>\n",
       "      <td>3.2021</td>\n",
       "      <td>222.1</td>\n",
       "    </tr>\n",
       "    <tr>\n",
       "      <th>15092</th>\n",
       "      <td>-122.26</td>\n",
       "      <td>40.58</td>\n",
       "      <td>14.0</td>\n",
       "      <td>2539.0</td>\n",
       "      <td>466.0</td>\n",
       "      <td>1271.0</td>\n",
       "      <td>438.0</td>\n",
       "      <td>3.9762</td>\n",
       "      <td>138.5</td>\n",
       "    </tr>\n",
       "    <tr>\n",
       "      <th>12034</th>\n",
       "      <td>-121.41</td>\n",
       "      <td>38.59</td>\n",
       "      <td>17.0</td>\n",
       "      <td>12355.0</td>\n",
       "      <td>3630.0</td>\n",
       "      <td>5692.0</td>\n",
       "      <td>3073.0</td>\n",
       "      <td>2.5245</td>\n",
       "      <td>99.1</td>\n",
       "    </tr>\n",
       "    <tr>\n",
       "      <th>758</th>\n",
       "      <td>-117.06</td>\n",
       "      <td>32.80</td>\n",
       "      <td>17.0</td>\n",
       "      <td>2247.0</td>\n",
       "      <td>340.0</td>\n",
       "      <td>973.0</td>\n",
       "      <td>318.0</td>\n",
       "      <td>5.5000</td>\n",
       "      <td>222.0</td>\n",
       "    </tr>\n",
       "  </tbody>\n",
       "</table>\n",
       "</div>"
      ],
      "text/plain": [
       "       longitude  latitude  housing_median_age  total_rooms  total_bedrooms  \\\n",
       "2379     -117.53     34.02                19.0        256.0            34.0   \n",
       "7408     -118.35     33.99                45.0       1764.0           401.0   \n",
       "15092    -122.26     40.58                14.0       2539.0           466.0   \n",
       "12034    -121.41     38.59                17.0      12355.0          3630.0   \n",
       "758      -117.06     32.80                17.0       2247.0           340.0   \n",
       "\n",
       "       population  households  median_income  median_house_value  \n",
       "2379        101.0        28.0         5.3269               375.0  \n",
       "7408        679.0       334.0         3.2021               222.1  \n",
       "15092      1271.0       438.0         3.9762               138.5  \n",
       "12034      5692.0      3073.0         2.5245                99.1  \n",
       "758         973.0       318.0         5.5000               222.0  "
      ]
     },
     "execution_count": 4,
     "metadata": {},
     "output_type": "execute_result"
    }
   ],
   "source": [
    "cali_df = cali_df.reindex(\n",
    "    np.random.permutation(cali_df.index))\n",
    "cali_df[\"median_house_value\"] /= 1000.0\n",
    "cali_df.head()"
   ]
  },
  {
   "cell_type": "markdown",
   "metadata": {
    "colab_type": "text",
    "id": "HzzlSs3PtTmt"
   },
   "source": [
    "## Examine the Data\n",
    "\n",
    "It's a good idea to get to know your data a little bit before you work with it.\n",
    "\n",
    "We'll print out a quick summary of a few useful statistics on each column: count of examples, mean, standard deviation, max, min, and various quantiles."
   ]
  },
  {
   "cell_type": "code",
   "execution_count": 5,
   "metadata": {
    "cellView": "both",
    "colab": {
     "base_uri": "https://localhost:8080/",
     "height": 297
    },
    "colab_type": "code",
    "id": "gzb10yoVrydW",
    "outputId": "d014a6c5-1473-484f-b93c-fd6966498087"
   },
   "outputs": [
    {
     "data": {
      "text/html": [
       "<div>\n",
       "<style scoped>\n",
       "    .dataframe tbody tr th:only-of-type {\n",
       "        vertical-align: middle;\n",
       "    }\n",
       "\n",
       "    .dataframe tbody tr th {\n",
       "        vertical-align: top;\n",
       "    }\n",
       "\n",
       "    .dataframe thead th {\n",
       "        text-align: right;\n",
       "    }\n",
       "</style>\n",
       "<table border=\"1\" class=\"dataframe\">\n",
       "  <thead>\n",
       "    <tr style=\"text-align: right;\">\n",
       "      <th></th>\n",
       "      <th>longitude</th>\n",
       "      <th>latitude</th>\n",
       "      <th>housing_median_age</th>\n",
       "      <th>total_rooms</th>\n",
       "      <th>total_bedrooms</th>\n",
       "      <th>population</th>\n",
       "      <th>households</th>\n",
       "      <th>median_income</th>\n",
       "      <th>median_house_value</th>\n",
       "    </tr>\n",
       "  </thead>\n",
       "  <tbody>\n",
       "    <tr>\n",
       "      <th>count</th>\n",
       "      <td>17000.000000</td>\n",
       "      <td>17000.000000</td>\n",
       "      <td>17000.000000</td>\n",
       "      <td>17000.000000</td>\n",
       "      <td>17000.000000</td>\n",
       "      <td>17000.000000</td>\n",
       "      <td>17000.000000</td>\n",
       "      <td>17000.000000</td>\n",
       "      <td>17000.000000</td>\n",
       "    </tr>\n",
       "    <tr>\n",
       "      <th>mean</th>\n",
       "      <td>-119.562108</td>\n",
       "      <td>35.625225</td>\n",
       "      <td>28.589353</td>\n",
       "      <td>2643.664412</td>\n",
       "      <td>539.410824</td>\n",
       "      <td>1429.573941</td>\n",
       "      <td>501.221941</td>\n",
       "      <td>3.883578</td>\n",
       "      <td>207.300912</td>\n",
       "    </tr>\n",
       "    <tr>\n",
       "      <th>std</th>\n",
       "      <td>2.005166</td>\n",
       "      <td>2.137340</td>\n",
       "      <td>12.586937</td>\n",
       "      <td>2179.947071</td>\n",
       "      <td>421.499452</td>\n",
       "      <td>1147.852959</td>\n",
       "      <td>384.520841</td>\n",
       "      <td>1.908157</td>\n",
       "      <td>115.983764</td>\n",
       "    </tr>\n",
       "    <tr>\n",
       "      <th>min</th>\n",
       "      <td>-124.350000</td>\n",
       "      <td>32.540000</td>\n",
       "      <td>1.000000</td>\n",
       "      <td>2.000000</td>\n",
       "      <td>1.000000</td>\n",
       "      <td>3.000000</td>\n",
       "      <td>1.000000</td>\n",
       "      <td>0.499900</td>\n",
       "      <td>14.999000</td>\n",
       "    </tr>\n",
       "    <tr>\n",
       "      <th>25%</th>\n",
       "      <td>-121.790000</td>\n",
       "      <td>33.930000</td>\n",
       "      <td>18.000000</td>\n",
       "      <td>1462.000000</td>\n",
       "      <td>297.000000</td>\n",
       "      <td>790.000000</td>\n",
       "      <td>282.000000</td>\n",
       "      <td>2.566375</td>\n",
       "      <td>119.400000</td>\n",
       "    </tr>\n",
       "    <tr>\n",
       "      <th>50%</th>\n",
       "      <td>-118.490000</td>\n",
       "      <td>34.250000</td>\n",
       "      <td>29.000000</td>\n",
       "      <td>2127.000000</td>\n",
       "      <td>434.000000</td>\n",
       "      <td>1167.000000</td>\n",
       "      <td>409.000000</td>\n",
       "      <td>3.544600</td>\n",
       "      <td>180.400000</td>\n",
       "    </tr>\n",
       "    <tr>\n",
       "      <th>75%</th>\n",
       "      <td>-118.000000</td>\n",
       "      <td>37.720000</td>\n",
       "      <td>37.000000</td>\n",
       "      <td>3151.250000</td>\n",
       "      <td>648.250000</td>\n",
       "      <td>1721.000000</td>\n",
       "      <td>605.250000</td>\n",
       "      <td>4.767000</td>\n",
       "      <td>265.000000</td>\n",
       "    </tr>\n",
       "    <tr>\n",
       "      <th>max</th>\n",
       "      <td>-114.310000</td>\n",
       "      <td>41.950000</td>\n",
       "      <td>52.000000</td>\n",
       "      <td>37937.000000</td>\n",
       "      <td>6445.000000</td>\n",
       "      <td>35682.000000</td>\n",
       "      <td>6082.000000</td>\n",
       "      <td>15.000100</td>\n",
       "      <td>500.001000</td>\n",
       "    </tr>\n",
       "  </tbody>\n",
       "</table>\n",
       "</div>"
      ],
      "text/plain": [
       "          longitude      latitude  housing_median_age   total_rooms  \\\n",
       "count  17000.000000  17000.000000        17000.000000  17000.000000   \n",
       "mean    -119.562108     35.625225           28.589353   2643.664412   \n",
       "std        2.005166      2.137340           12.586937   2179.947071   \n",
       "min     -124.350000     32.540000            1.000000      2.000000   \n",
       "25%     -121.790000     33.930000           18.000000   1462.000000   \n",
       "50%     -118.490000     34.250000           29.000000   2127.000000   \n",
       "75%     -118.000000     37.720000           37.000000   3151.250000   \n",
       "max     -114.310000     41.950000           52.000000  37937.000000   \n",
       "\n",
       "       total_bedrooms    population    households  median_income  \\\n",
       "count    17000.000000  17000.000000  17000.000000   17000.000000   \n",
       "mean       539.410824   1429.573941    501.221941       3.883578   \n",
       "std        421.499452   1147.852959    384.520841       1.908157   \n",
       "min          1.000000      3.000000      1.000000       0.499900   \n",
       "25%        297.000000    790.000000    282.000000       2.566375   \n",
       "50%        434.000000   1167.000000    409.000000       3.544600   \n",
       "75%        648.250000   1721.000000    605.250000       4.767000   \n",
       "max       6445.000000  35682.000000   6082.000000      15.000100   \n",
       "\n",
       "       median_house_value  \n",
       "count        17000.000000  \n",
       "mean           207.300912  \n",
       "std            115.983764  \n",
       "min             14.999000  \n",
       "25%            119.400000  \n",
       "50%            180.400000  \n",
       "75%            265.000000  \n",
       "max            500.001000  "
      ]
     },
     "execution_count": 5,
     "metadata": {},
     "output_type": "execute_result"
    }
   ],
   "source": [
    "cali_df.describe()"
   ]
  },
  {
   "cell_type": "markdown",
   "metadata": {
    "colab_type": "text",
    "id": "Lr6wYl2bt2Ep"
   },
   "source": [
    "## Build the First Model\n",
    "\n",
    "In this exercise, we'll try to predict `median_house_value`, which will be our label (sometimes also called a target). We'll use every other numerical features as our input feature.\n",
    "\n",
    "**NOTE:** Our data is at the city block level, so this feature represents the total number of rooms in that block.\n",
    "\n",
    "To train our model, we'll use a multi-layer perceptron (MLP) model based on Tensorflow 2.x `tf.keras` APIs and Eager Mode. We will then convert the model to static graph mode for better performance."
   ]
  },
  {
   "cell_type": "markdown",
   "metadata": {
    "colab_type": "text",
    "id": "0cpcsieFhsNI"
   },
   "source": [
    "### Step 1: Define Features and Target"
   ]
  },
  {
   "cell_type": "markdown",
   "metadata": {
    "colab_type": "text",
    "id": "EL8-9d4ZJNR7"
   },
   "source": [
    "In order to import our training data into TensorFlow, we need to specify what type of data each feature contains. There are two main types of data we'll use in this and future exercises:\n",
    "\n",
    "* **Categorical Data**: Data that is textual. In this exercise, our housing data set does not contain any categorical features, but examples you might see would be the home style, the words in a real-estate ad.\n",
    "\n",
    "* **Numerical Data**: Data that is a number (integer or float) and that you want to treat as a number. As we will discuss more later sometimes you might want to treat numerical data (e.g., a postal code) as if it were categorical.\n",
    "\n",
    "In TensorFlow, we indicate a feature's data type using a construct called a **feature column**. Feature columns store only a description of the feature data; they do not contain the feature data itself.\n",
    "\n",
    "To start, we're going to use just numerical features and median household value as target."
   ]
  },
  {
   "cell_type": "code",
   "execution_count": 6,
   "metadata": {
    "colab": {
     "base_uri": "https://localhost:8080/",
     "height": 34
    },
    "colab_type": "code",
    "id": "rhEbFCZ86cDZ",
    "outputId": "5bc2d1e9-c76d-4f77-8ad2-ff3e3eb70307"
   },
   "outputs": [
    {
     "data": {
      "text/plain": [
       "((13600, 9), (3400, 9))"
      ]
     },
     "execution_count": 6,
     "metadata": {},
     "output_type": "execute_result"
    }
   ],
   "source": [
    "num_features = ['longitude','latitude','housing_median_age','total_rooms','total_bedrooms','population','households','median_income']\n",
    "target = ['median_house_value']\n",
    "\n",
    "#split\n",
    "from sklearn.model_selection import train_test_split\n",
    "train_df, valid_df = train_test_split(cali_df[num_features+target],test_size=0.2)\n",
    "train_df.shape, valid_df.shape"
   ]
  },
  {
   "cell_type": "code",
   "execution_count": 7,
   "metadata": {
    "colab": {
     "base_uri": "https://localhost:8080/",
     "height": 153
    },
    "colab_type": "code",
    "id": "VbxOn9ZCOekc",
    "outputId": "62a7431c-e51d-40a6-e381-16a7bad89392"
   },
   "outputs": [
    {
     "data": {
      "text/plain": [
       "(array([-0.15340235, -0.08096466, -0.33138751, ...,  0.07041485,\n",
       "        -0.18189326, -0.29226774]),\n",
       " array([0.78727316, 0.59950097, 0.99385361, ..., 0.92663788, 0.95603094,\n",
       "        0.54836601]),\n",
       " array([-0.10505394, -0.15066049,  0.25385484, ..., -0.52350877,\n",
       "        -0.08283703,  0.03381346]),\n",
       " array([0.85434733, 0.74334354, 0.4466899 , ..., 0.56289934, 0.76586322,\n",
       "        0.20847018]))"
      ]
     },
     "execution_count": 7,
     "metadata": {},
     "output_type": "execute_result"
    }
   ],
   "source": [
    "#standardize\n",
    "from sklearn.preprocessing import StandardScaler\n",
    "scaler = StandardScaler().fit(train_df[num_features])\n",
    "train_scaled = scaler.transform(train_df[num_features])\n",
    "valid_scaled = scaler.transform(valid_df[num_features])\n",
    "train_scaled.mean(1), train_scaled.std(1), valid_scaled.mean(1), valid_scaled.std(1)"
   ]
  },
  {
   "cell_type": "code",
   "execution_count": 8,
   "metadata": {
    "colab": {
     "base_uri": "https://localhost:8080/",
     "height": 34
    },
    "colab_type": "code",
    "id": "Jmmq5X2BNVrb",
    "outputId": "f0c66549-82e5-49f0-af67-148d272d4ea1"
   },
   "outputs": [
    {
     "data": {
      "text/plain": [
       "((13600, 8), (13600, 1), (3400, 8), (3400, 1))"
      ]
     },
     "execution_count": 8,
     "metadata": {},
     "output_type": "execute_result"
    }
   ],
   "source": [
    "#to numpy\n",
    "train_x = np.array(train_scaled)\n",
    "train_y = np.array(train_df[target])\n",
    "valid_x = np.array(valid_scaled)\n",
    "valid_y = np.array(valid_df[target])\n",
    "train_x.shape,train_y.shape,valid_x.shape,valid_y.shape"
   ]
  },
  {
   "cell_type": "code",
   "execution_count": 9,
   "metadata": {
    "colab": {},
    "colab_type": "code",
    "id": "LUajUVm8KGbz",
    "outputId": "e8a6ee06-fc6b-4a3a-c942-680ad60e1273"
   },
   "outputs": [
    {
     "data": {
      "text/plain": [
       "(array([[-1.37816868,  1.0816908 ,  1.06710307, -0.4667946 , -0.48307152,\n",
       "         -0.50081714, -0.48187345, -0.06528727],\n",
       "        [ 0.83458075, -0.81592695, -0.12363869, -0.25350702, -0.48307152,\n",
       "         -0.33791109, -0.44013643,  0.97189366],\n",
       "        [ 1.99577584, -1.32413417, -0.83808374, -0.67318711, -0.24019585,\n",
       "         -0.04485259, -0.18710575, -1.33931674],\n",
       "        [ 0.69005433, -0.75531508,  1.06710307, -0.36658621, -0.09970894,\n",
       "          0.65676394, -0.02276624, -0.81111936],\n",
       "        [ 0.52060955, -0.67139096,  0.67018915, -0.49759259, -0.6283207 ,\n",
       "         -0.57408177, -0.56534748, -0.02298541],\n",
       "        [ 0.77976038, -0.81592695, -0.83808374, -0.00666341,  0.43128396,\n",
       "          0.73002857,  0.38677826, -0.60756782],\n",
       "        [ 0.6452013 , -0.8112645 ,  0.27327523, -0.30958694, -0.33782234,\n",
       "         -0.06898682, -0.34101101,  0.29862392],\n",
       "        [ 0.62028295, -0.75531508,  1.46401699, -0.41255336, -0.39973183,\n",
       "         -0.30170975, -0.34622813, -0.78180124],\n",
       "        [-1.52767878,  1.5432735 , -0.28240425, -0.91083728, -0.94024926,\n",
       "         -1.06624767, -1.06358314, -1.1197973 ],\n",
       "        [ 0.57542992, -0.72734038,  1.46401699,  0.15468129,  0.20745736,\n",
       "         -0.30429556,  0.18331029,  0.04968165]]), array([[144.6  ],\n",
       "        [243.4  ],\n",
       "        [ 58.3  ],\n",
       "        [127.3  ],\n",
       "        [206.9  ],\n",
       "        [170.8  ],\n",
       "        [138.1  ],\n",
       "        [123.4  ],\n",
       "        [ 49.   ],\n",
       "        [500.001]]))"
      ]
     },
     "execution_count": 9,
     "metadata": {},
     "output_type": "execute_result"
    }
   ],
   "source": [
    "train_x[:10],train_y[:10]"
   ]
  },
  {
   "cell_type": "markdown",
   "metadata": {
    "colab_type": "text",
    "id": "4M-rTFHL2UkA"
   },
   "source": [
    "### Step 2: Create `Dataset` Object"
   ]
  },
  {
   "cell_type": "markdown",
   "metadata": {
    "colab_type": "text",
    "id": "_uH9JJrIKGb3"
   },
   "source": [
    "`Dataset` object is responsible for shuffling and feeding the features-target pairs into the architecture. We also create a validation `Dataset` with batch size equal to all validation examples and no shuffling."
   ]
  },
  {
   "cell_type": "code",
   "execution_count": 10,
   "metadata": {
    "colab": {
     "base_uri": "https://localhost:8080/",
     "height": 51
    },
    "colab_type": "code",
    "id": "uNsy47-1Jxe9",
    "outputId": "fed2f056-b4b5-49b7-f70a-d76c1656dd33"
   },
   "outputs": [
    {
     "data": {
      "text/plain": [
       "(<BatchDataset shapes: ((None, 8), (None, 1)), types: (tf.float64, tf.float64)>,\n",
       " <BatchDataset shapes: ((None, 8), (None, 1)), types: (tf.float64, tf.float64)>)"
      ]
     },
     "execution_count": 10,
     "metadata": {},
     "output_type": "execute_result"
    }
   ],
   "source": [
    "#datasets\n",
    "#shuffle with buffer equal to size of dataset\n",
    "train_ds = tf.data.Dataset.from_tensor_slices((train_x,train_y))\\\n",
    "  .shuffle(buffer_size=train_y.shape[0]).batch(64)\n",
    "#no shuffling for validation\n",
    "valid_ds = tf.data.Dataset.from_tensor_slices((train_x,train_y))\\\n",
    "  .batch(valid_y.shape[0])\n",
    "train_ds, valid_ds"
   ]
  },
  {
   "cell_type": "markdown",
   "metadata": {
    "colab_type": "text",
    "id": "W2OPpS0SQ4z4"
   },
   "source": [
    "## Step 3: Define Architecture"
   ]
  },
  {
   "cell_type": "markdown",
   "metadata": {
    "colab_type": "text",
    "id": "hSxzvhAyKGb9"
   },
   "source": [
    "There are [several ways](https://www.tensorflow.org/versions/r2.0/api_docs/python/tf/keras/Model) to define an architecture in Tensorflow 2.0. Here we introduce:"
   ]
  },
  {
   "cell_type": "markdown",
   "metadata": {
    "colab_type": "text",
    "id": "q4PTWXzyKGb-"
   },
   "source": [
    "#### Step 3.1: Subclassing `tf.keras.layers.Layer` and `tf.keras.Model`"
   ]
  },
  {
   "cell_type": "markdown",
   "metadata": {
    "colab_type": "text",
    "id": "VSEZWZ_uKGb_"
   },
   "source": [
    "You can create your own `tf.keras.layers.Layer` object, which acts as a layer or a collection of layers in your architecture. Here we define our own `Linear` layer for a fully-connect layer instead of using `tf.keras.layers.Dense`."
   ]
  },
  {
   "cell_type": "code",
   "execution_count": 11,
   "metadata": {
    "colab": {},
    "colab_type": "code",
    "id": "9CistZoLKGcB"
   },
   "outputs": [],
   "source": [
    "class Linear(layers.Layer):\n",
    "    def __init__(self, output_dim):\n",
    "        super(Linear,self).__init__()\n",
    "        self.output_dim = output_dim\n",
    "    #use build method to build the weights without having to specify input dimension\n",
    "    def build(self,x_shape):\n",
    "        self.w = self.add_weight(shape=(x_shape[-1],self.output_dim),\n",
    "                                initializer='he_normal',trainable=True)\n",
    "        self.b = self.add_weight(shape=(self.output_dim,),\n",
    "                                initializer='zeros',trainable=True)\n",
    "    def call(self,x):\n",
    "        return tf.matmul(x,self.w) + self.b"
   ]
  },
  {
   "cell_type": "code",
   "execution_count": 12,
   "metadata": {
    "colab": {},
    "colab_type": "code",
    "id": "ypzI0s_LQ832"
   },
   "outputs": [],
   "source": [
    "#piece linear layers together to get our simple MLP architecture\n",
    "class MLP(Model):\n",
    "    def __init__(self,output_dims=[32,32,1]):\n",
    "        super(MLP,self).__init__()\n",
    "        #we intentionally do not specify any activation to show we can use functional tf.nn later\n",
    "        self.linears = [Linear(i) for i in output_dims]\n",
    "#         #we can also use the predefined tf.keras.layers.Dense; we can also specify activations\n",
    "#         self.linears = [tf.keras.layers.Dense(i,activation='relu') for i in output_dims]\n",
    "    def call(self,x):\n",
    "        for l in self.linears[:-1]:\n",
    "            x = tf.nn.relu(l(x))\n",
    "        return self.linears[-1](x)"
   ]
  },
  {
   "cell_type": "code",
   "execution_count": 13,
   "metadata": {
    "colab": {},
    "colab_type": "code",
    "id": "ZDMZqBvvKGcL",
    "outputId": "a0168728-86ac-4c8f-bc2d-7173af617ab9"
   },
   "outputs": [
    {
     "data": {
      "text/plain": [
       "TensorShape([64, 1])"
      ]
     },
     "execution_count": 13,
     "metadata": {},
     "output_type": "execute_result"
    }
   ],
   "source": [
    "m = MLP([32,32,1])\n",
    "x = tf.random.normal((64,9))\n",
    "m(x).shape"
   ]
  },
  {
   "cell_type": "code",
   "execution_count": 14,
   "metadata": {},
   "outputs": [
    {
     "name": "stdout",
     "output_type": "stream",
     "text": [
      "Model: \"mlp\"\n",
      "_________________________________________________________________\n",
      "Layer (type)                 Output Shape              Param #   \n",
      "=================================================================\n",
      "linear (Linear)              multiple                  320       \n",
      "_________________________________________________________________\n",
      "linear_1 (Linear)            multiple                  1056      \n",
      "_________________________________________________________________\n",
      "linear_2 (Linear)            multiple                  33        \n",
      "=================================================================\n",
      "Total params: 1,409\n",
      "Trainable params: 1,409\n",
      "Non-trainable params: 0\n",
      "_________________________________________________________________\n"
     ]
    }
   ],
   "source": [
    "#can only see summary after you called build() or passed something\n",
    "m.summary()"
   ]
  },
  {
   "cell_type": "markdown",
   "metadata": {
    "colab_type": "text",
    "id": "ov5WYnW7KGcO"
   },
   "source": [
    "#### Step 3.2: Quick and Dirty with `tf.keras.Sequential`"
   ]
  },
  {
   "cell_type": "markdown",
   "metadata": {
    "colab_type": "text",
    "id": "MX9xzUF0KGcR"
   },
   "source": [
    "`tf.keras.Sequential` will create a model but do not build it unless you specify the input shape."
   ]
  },
  {
   "cell_type": "code",
   "execution_count": 15,
   "metadata": {
    "colab": {},
    "colab_type": "code",
    "id": "QYpSpy6pKGcS",
    "outputId": "08d57b38-76c0-44de-cfc9-c7e957347d24"
   },
   "outputs": [
    {
     "ename": "ValueError",
     "evalue": "This model has not yet been built. Build the model first by calling `build()` or calling `fit()` with some data, or specify an `input_shape` argument in the first layer(s) for automatic build.",
     "output_type": "error",
     "traceback": [
      "\u001b[0;31m---------------------------------------------------------------------------\u001b[0m",
      "\u001b[0;31mValueError\u001b[0m                                Traceback (most recent call last)",
      "\u001b[0;32m<ipython-input-15-001bc5aa961f>\u001b[0m in \u001b[0;36m<module>\u001b[0;34m\u001b[0m\n\u001b[1;32m      4\u001b[0m     \u001b[0mm\u001b[0m\u001b[0;34m.\u001b[0m\u001b[0madd\u001b[0m\u001b[0;34m(\u001b[0m\u001b[0mtf\u001b[0m\u001b[0;34m.\u001b[0m\u001b[0mkeras\u001b[0m\u001b[0;34m.\u001b[0m\u001b[0mlayers\u001b[0m\u001b[0;34m.\u001b[0m\u001b[0mDense\u001b[0m\u001b[0;34m(\u001b[0m\u001b[0mi\u001b[0m\u001b[0;34m,\u001b[0m\u001b[0mactivation\u001b[0m\u001b[0;34m=\u001b[0m\u001b[0;34m'relu'\u001b[0m\u001b[0;34m)\u001b[0m\u001b[0;34m)\u001b[0m\u001b[0;34m\u001b[0m\u001b[0;34m\u001b[0m\u001b[0m\n\u001b[1;32m      5\u001b[0m \u001b[0mm\u001b[0m\u001b[0;34m.\u001b[0m\u001b[0madd\u001b[0m\u001b[0;34m(\u001b[0m\u001b[0mtf\u001b[0m\u001b[0;34m.\u001b[0m\u001b[0mkeras\u001b[0m\u001b[0;34m.\u001b[0m\u001b[0mlayers\u001b[0m\u001b[0;34m.\u001b[0m\u001b[0mDense\u001b[0m\u001b[0;34m(\u001b[0m\u001b[0;36m1\u001b[0m\u001b[0;34m)\u001b[0m\u001b[0;34m)\u001b[0m\u001b[0;34m\u001b[0m\u001b[0;34m\u001b[0m\u001b[0m\n\u001b[0;32m----> 6\u001b[0;31m \u001b[0mm\u001b[0m\u001b[0;34m.\u001b[0m\u001b[0msummary\u001b[0m\u001b[0;34m(\u001b[0m\u001b[0;34m)\u001b[0m\u001b[0;34m\u001b[0m\u001b[0;34m\u001b[0m\u001b[0m\n\u001b[0m",
      "\u001b[0;32m~/.virtualenvs/sandbox/lib/python3.7/site-packages/tensorflow/python/keras/engine/network.py\u001b[0m in \u001b[0;36msummary\u001b[0;34m(self, line_length, positions, print_fn)\u001b[0m\n\u001b[1;32m   1493\u001b[0m     \"\"\"\n\u001b[1;32m   1494\u001b[0m     \u001b[0;32mif\u001b[0m \u001b[0;32mnot\u001b[0m \u001b[0mself\u001b[0m\u001b[0;34m.\u001b[0m\u001b[0mbuilt\u001b[0m\u001b[0;34m:\u001b[0m\u001b[0;34m\u001b[0m\u001b[0;34m\u001b[0m\u001b[0m\n\u001b[0;32m-> 1495\u001b[0;31m       raise ValueError('This model has not yet been built. '\n\u001b[0m\u001b[1;32m   1496\u001b[0m                        \u001b[0;34m'Build the model first by calling `build()` or calling '\u001b[0m\u001b[0;34m\u001b[0m\u001b[0;34m\u001b[0m\u001b[0m\n\u001b[1;32m   1497\u001b[0m                        \u001b[0;34m'`fit()` with some data, or specify '\u001b[0m\u001b[0;34m\u001b[0m\u001b[0;34m\u001b[0m\u001b[0m\n",
      "\u001b[0;31mValueError\u001b[0m: This model has not yet been built. Build the model first by calling `build()` or calling `fit()` with some data, or specify an `input_shape` argument in the first layer(s) for automatic build."
     ]
    }
   ],
   "source": [
    "#without input shape\n",
    "m = tf.keras.Sequential()\n",
    "for i in [32,32]:\n",
    "    m.add(tf.keras.layers.Dense(i,activation='relu'))\n",
    "m.add(tf.keras.layers.Dense(1))\n",
    "m.summary()"
   ]
  },
  {
   "cell_type": "code",
   "execution_count": 16,
   "metadata": {
    "colab": {},
    "colab_type": "code",
    "id": "-l2y9KPlKGcY",
    "outputId": "8899f7ef-af48-45bf-8ee1-e6543164ffcf"
   },
   "outputs": [
    {
     "name": "stdout",
     "output_type": "stream",
     "text": [
      "Model: \"sequential_1\"\n",
      "_________________________________________________________________\n",
      "Layer (type)                 Output Shape              Param #   \n",
      "=================================================================\n",
      "dense_3 (Dense)              (None, 32)                320       \n",
      "_________________________________________________________________\n",
      "dense_4 (Dense)              (None, 32)                1056      \n",
      "_________________________________________________________________\n",
      "dense_5 (Dense)              (None, 1)                 33        \n",
      "=================================================================\n",
      "Total params: 1,409\n",
      "Trainable params: 1,409\n",
      "Non-trainable params: 0\n",
      "_________________________________________________________________\n"
     ]
    }
   ],
   "source": [
    "#with input shape\n",
    "m = tf.keras.Sequential()\n",
    "m.add(tf.keras.layers.Dense(32,activation='relu',input_dim=9))\n",
    "m.add(tf.keras.layers.Dense(32,activation='relu'))\n",
    "m.add(tf.keras.layers.Dense(1))\n",
    "m.summary()"
   ]
  },
  {
   "cell_type": "markdown",
   "metadata": {},
   "source": [
    "#### Step 3.3: Functionally"
   ]
  },
  {
   "cell_type": "code",
   "execution_count": 17,
   "metadata": {},
   "outputs": [
    {
     "name": "stdout",
     "output_type": "stream",
     "text": [
      "Model: \"model\"\n",
      "_________________________________________________________________\n",
      "Layer (type)                 Output Shape              Param #   \n",
      "=================================================================\n",
      "input_1 (InputLayer)         [(None, 9)]               0         \n",
      "_________________________________________________________________\n",
      "dense_6 (Dense)              (None, 32)                320       \n",
      "_________________________________________________________________\n",
      "dense_7 (Dense)              (None, 32)                1056      \n",
      "_________________________________________________________________\n",
      "dense_8 (Dense)              (None, 1)                 33        \n",
      "=================================================================\n",
      "Total params: 1,409\n",
      "Trainable params: 1,409\n",
      "Non-trainable params: 0\n",
      "_________________________________________________________________\n"
     ]
    }
   ],
   "source": [
    "inputs = tf.keras.Input(shape=(9,))\n",
    "x = layers.Dense(32, activation='relu')(inputs)\n",
    "x = layers.Dense(32, activation='relu')(x)\n",
    "outputs = layers.Dense(1)(x)\n",
    "m = Model(inputs=inputs, outputs=outputs)\n",
    "m.summary()"
   ]
  },
  {
   "cell_type": "markdown",
   "metadata": {
    "colab_type": "text",
    "id": "RDlaR8HGKGcf"
   },
   "source": [
    "### Step 4: Define Loss"
   ]
  },
  {
   "cell_type": "markdown",
   "metadata": {
    "colab_type": "text",
    "id": "6PDNJsYBKGcg"
   },
   "source": [
    "We need to specify which loss function to optimize for. In our case, we use a simple mean squared error loss (MSE loss)."
   ]
  },
  {
   "cell_type": "code",
   "execution_count": 18,
   "metadata": {
    "colab": {},
    "colab_type": "code",
    "id": "lUc20G0-KGch",
    "outputId": "7e5d30b0-75c6-49bb-d36e-3055e5de1040"
   },
   "outputs": [
    {
     "name": "stdout",
     "output_type": "stream",
     "text": [
      "y: (10, 1), preds: (10, 1), MSE Loss: 0.4525110721588135\n",
      "MSE Loss by hand: 0.4525110721588135\n"
     ]
    }
   ],
   "source": [
    "loss_fn = tf.keras.losses.MeanSquaredError()\n",
    "y = tf.ones((10,1))\n",
    "preds = tf.random.uniform((10,1))\n",
    "print(f'y: {y.shape}, preds: {preds.shape}, MSE Loss: {loss_fn(y,preds)}')\n",
    "print(f'MSE Loss by hand: {((y.numpy()-preds.numpy())**2).mean()}')"
   ]
  },
  {
   "cell_type": "markdown",
   "metadata": {
    "colab_type": "text",
    "id": "fXSkXbIyKGck"
   },
   "source": [
    "### Step 5: Define Optimizer"
   ]
  },
  {
   "cell_type": "markdown",
   "metadata": {
    "colab_type": "text",
    "id": "ghwAI7_YKGcl"
   },
   "source": [
    "Last step of preparation is to define which optimizer to apply the gradients."
   ]
  },
  {
   "cell_type": "code",
   "execution_count": 19,
   "metadata": {
    "colab": {},
    "colab_type": "code",
    "id": "KYIgRdC2KGcm"
   },
   "outputs": [],
   "source": [
    "optimizer = tf.keras.optimizers.Adam(learning_rate = 1e-3,\n",
    "                                    beta_1=0.9, beta_2=0.999)"
   ]
  },
  {
   "cell_type": "markdown",
   "metadata": {
    "colab_type": "text",
    "id": "IoxWuHWMKGcp"
   },
   "source": [
    "### Step 6: Training Loop"
   ]
  },
  {
   "cell_type": "markdown",
   "metadata": {
    "colab_type": "text",
    "id": "ncaQfxQBKGcq"
   },
   "source": [
    "We put what we have prepared so far together: datasets, architecture, loss function, and optimizer to train the model."
   ]
  },
  {
   "cell_type": "code",
   "execution_count": 20,
   "metadata": {
    "colab": {},
    "colab_type": "code",
    "id": "8z9-sdDeKGcr"
   },
   "outputs": [],
   "source": [
    "#datasets\n",
    "#shuffle with buffer equal to size of dataset\n",
    "train_ds = tf.data.Dataset.from_tensor_slices((train_x,train_y))\\\n",
    "  .shuffle(buffer_size=train_y.shape[0]).batch(64)\n",
    "#no shuffling for validation\n",
    "valid_ds = tf.data.Dataset.from_tensor_slices((train_x,train_y))\\\n",
    "  .batch(valid_y.shape[0])\n",
    "train_ds, valid_ds\n",
    "\n",
    "#architecture\n",
    "class MLP(Model):\n",
    "    def __init__(self,output_dims=[64,32,1]):\n",
    "        super(MLP,self).__init__()\n",
    "        #we can also use the predefined tf.keras.layers.Dense; we can also specify activations\n",
    "        self.linears = [layers.Dense(i,activation='relu') for i in output_dims]\n",
    "    def call(self,x):\n",
    "        for l in self.linears[:-1]: x = l(x)\n",
    "        return self.linears[-1](x)\n",
    "m = MLP([32,32,1])\n",
    "\n",
    "#loss fn\n",
    "loss_fn = tf.keras.losses.MeanSquaredError()\n",
    "\n",
    "#optimizer\n",
    "optimizer = tf.keras.optimizers.Adam(learning_rate = 2e-3,\n",
    "                                    beta_1=0.9, beta_2=0.999)"
   ]
  },
  {
   "cell_type": "markdown",
   "metadata": {
    "colab_type": "text",
    "id": "ygZFHjBVKGcu"
   },
   "source": [
    "As we train the model in Eager Mode, we use `tf.GradientTape()` to record the gradients and use our optimizer to apply them. Let's say we train for 10 epochs (10 rounds of all data)."
   ]
  },
  {
   "cell_type": "code",
   "execution_count": 21,
   "metadata": {
    "colab": {},
    "colab_type": "code",
    "id": "mhuX19P9KGcu",
    "outputId": "ce7fb859-8b2c-41bc-e818-899b817740e3"
   },
   "outputs": [
    {
     "name": "stdout",
     "output_type": "stream",
     "text": [
      "epoch 0 - Train Loss: 10299.20703125;    Valid Loss: 11015.068359375\n",
      "epoch 1 - Train Loss: 9241.53125;    Valid Loss: 6444.14404296875\n",
      "epoch 2 - Train Loss: 8204.337890625;    Valid Loss: 5094.42919921875\n",
      "epoch 3 - Train Loss: 7695.71923828125;    Valid Loss: 4481.39892578125\n",
      "epoch 4 - Train Loss: 7617.1015625;    Valid Loss: 4243.6044921875\n",
      "epoch 5 - Train Loss: 7719.47314453125;    Valid Loss: 4141.84130859375\n",
      "epoch 6 - Train Loss: 7810.826171875;    Valid Loss: 4079.58203125\n",
      "epoch 7 - Train Loss: 7868.734375;    Valid Loss: 4035.086181640625\n",
      "epoch 8 - Train Loss: 7907.7197265625;    Valid Loss: 3994.771240234375\n",
      "epoch 9 - Train Loss: 7948.3212890625;    Valid Loss: 3959.98046875\n",
      "Done in 0:00:14.705603\n"
     ]
    }
   ],
   "source": [
    "from datetime import datetime\n",
    "start_time = datetime.now()\n",
    "\n",
    "#to log epoch-level train and validation losses\n",
    "epoch_train_losses = []\n",
    "epoch_valid_losses = []\n",
    "for e in range(10):\n",
    "    #training loop\n",
    "    for i,(x,y) in enumerate(train_ds):\n",
    "        epoch_train_loss = []\n",
    "        with tf.GradientTape() as tape:\n",
    "            preds = m(x) #prediction\n",
    "            train_loss = loss_fn(y,preds) #record loss\n",
    "            epoch_train_loss.append(train_loss)\n",
    "            #record gradients\n",
    "            gradients = tape.gradient(train_loss,m.trainable_weights)\n",
    "        #update \n",
    "        optimizer.apply_gradients(zip(gradients,m.trainable_weights))\n",
    "    epoch_train_losses.append(np.mean(epoch_train_loss))\n",
    "    \n",
    "    #validation loop\n",
    "    for i,(x,y) in enumerate(valid_ds):\n",
    "        epoch_valid_loss = []\n",
    "        preds = m(x) #prediction\n",
    "        valid_loss = loss_fn(y,preds) #record loss\n",
    "        epoch_valid_loss.append(valid_loss)\n",
    "        # do not record or apply gradients\n",
    "    epoch_valid_losses.append(np.mean(epoch_valid_loss))\n",
    "    \n",
    "    #log\n",
    "    print(f'epoch {e} - Train Loss: {np.mean(epoch_train_loss)};\\\n",
    "    Valid Loss: {np.mean(epoch_valid_loss)}')\n",
    "\n",
    "print(f'Done in {datetime.now()-start_time}')"
   ]
  },
  {
   "cell_type": "code",
   "execution_count": 22,
   "metadata": {
    "colab": {},
    "colab_type": "code",
    "id": "UdQ_fioRKGcx",
    "outputId": "23323062-3fea-4682-a70b-5b8c9313f47b"
   },
   "outputs": [
    {
     "data": {
      "text/plain": [
       "[<matplotlib.lines.Line2D at 0x141404390>]"
      ]
     },
     "execution_count": 22,
     "metadata": {},
     "output_type": "execute_result"
    },
    {
     "data": {
      "image/png": "[encoded data removed]",
      "text/plain": [
       "<Figure size 432x288 with 1 Axes>"
      ]
     },
     "metadata": {
      "needs_background": "light"
     },
     "output_type": "display_data"
    }
   ],
   "source": [
    "#plot losses by epoch\n",
    "plt.plot(epoch_train_losses)\n",
    "plt.plot(epoch_valid_losses)"
   ]
  },
  {
   "cell_type": "markdown",
   "metadata": {
    "colab_type": "text",
    "id": "-0IztwdK2f3F"
   },
   "source": [
    "### Step 7: Evaluate the Model"
   ]
  },
  {
   "cell_type": "markdown",
   "metadata": {
    "colab_type": "text",
    "id": "AKWstXXPzOVz"
   },
   "source": [
    "Is this a good model? How would you judge how large this error is?\n",
    "\n",
    "Mean Squared Error (MSE) can be hard to interpret, so we often look at Root Mean Squared Error (RMSE)\n",
    "instead.  A nice property of RMSE is that it can be interpreted on the same scale as the original targets.\n",
    "\n",
    "Let's compare the RMSE to the difference of the min and max of our targets:"
   ]
  },
  {
   "cell_type": "code",
   "execution_count": 23,
   "metadata": {
    "colab": {},
    "colab_type": "code",
    "id": "7UwqGbbxP53O",
    "outputId": "d0572e5d-044a-41f4-cddd-1b919d2089ce"
   },
   "outputs": [
    {
     "name": "stdout",
     "output_type": "stream",
     "text": [
      "Min. Median House Value: 14.999\n",
      "Max. Median House Value: 500.001\n",
      "Difference between Min. and Max.: 485.002\n",
      "Root Mean Squared Error: 62.928\n"
     ]
    }
   ],
   "source": [
    "root_mean_squared_error = np.sqrt(epoch_valid_losses[-1])\n",
    "\n",
    "min_house_value = cali_df[\"median_house_value\"].min()\n",
    "max_house_value = cali_df[\"median_house_value\"].max()\n",
    "min_max_difference = max_house_value - min_house_value\n",
    "\n",
    "print(\"Min. Median House Value: %0.3f\" % min_house_value)\n",
    "print(\"Max. Median House Value: %0.3f\" % max_house_value)\n",
    "print(\"Difference between Min. and Max.: %0.3f\" % min_max_difference)\n",
    "print(\"Root Mean Squared Error: %0.3f\" % root_mean_squared_error)"
   ]
  },
  {
   "cell_type": "markdown",
   "metadata": {
    "colab_type": "text",
    "id": "QU5sLyYTqzqL"
   },
   "source": [
    "#### Is There a Standard Heuristic for Model Tuning?\n",
    "\n",
    "This is a commonly asked question. The short answer is that the effects of different hyperparameters are data dependent. So there are no hard-and-fast rules; you'll need to test on your data.\n",
    "\n",
    "That said, here are a few rules of thumb that may help guide you:\n",
    "\n",
    " * Training error should steadily decrease, steeply at first, and should eventually plateau as training converges.\n",
    " * If the training has not converged, try running it for longer.\n",
    " * If the training error decreases too slowly, increasing the learning rate may help it decrease faster.\n",
    "   * But sometimes the exact opposite may happen if the learning rate is too high.\n",
    " * If the training error varies wildly, try decreasing the learning rate.\n",
    "   * Lower learning rate plus larger number of steps or larger batch size is often a good combination.\n",
    " * Very small batch sizes can also cause instability.  First try larger values like 100 or 1000, and decrease until you see degradation.\n",
    "\n",
    "Again, never go strictly by these rules of thumb, because the effects are data dependent.  Always experiment and verify."
   ]
  },
  {
   "cell_type": "markdown",
   "metadata": {
    "colab_type": "text",
    "id": "4vqb3_glKGc6"
   },
   "source": [
    "### Step 8: Convert to Static Graph"
   ]
  },
  {
   "cell_type": "markdown",
   "metadata": {
    "colab_type": "text",
    "id": "R8sNtSeKKGc8"
   },
   "source": [
    "Eager Mode is on by default for Tensorflow 2.0 but we can also convert our models to static graph to enjoy the performance edge it offers after we completed the debugging in the more friendly Eager Mode by using the `@tf.function` decorator. This shrinks our time to run 10 epochs from 12 to 2 seconds!"
   ]
  },
  {
   "cell_type": "code",
   "execution_count": 24,
   "metadata": {
    "colab": {},
    "colab_type": "code",
    "id": "h1chYBMDKGc9"
   },
   "outputs": [],
   "source": [
    "#datasets\n",
    "#shuffle with buffer equal to size of dataset\n",
    "train_ds = tf.data.Dataset.from_tensor_slices((train_x,train_y))\\\n",
    "  .shuffle(buffer_size=train_y.shape[0]).batch(64)\n",
    "#no shuffling for validation\n",
    "valid_ds = tf.data.Dataset.from_tensor_slices((train_x,train_y))\\\n",
    "  .batch(valid_y.shape[0])\n",
    "\n",
    "#architecture\n",
    "class MLP(Model):\n",
    "    def __init__(self,output_dims=[64,32,1]):\n",
    "        super(MLP,self).__init__()\n",
    "        #we can also use the predefined tf.keras.layers.Dense; we can also specify activations\n",
    "        self.linears = [layers.Dense(i,activation='relu') for i in output_dims]\n",
    "    def call(self,x):\n",
    "        for l in self.linears[:-1]: x = l(x)\n",
    "        return self.linears[-1](x)\n",
    "m = MLP([32,32,1])\n",
    "\n",
    "#loss fn\n",
    "loss_fn = tf.keras.losses.MeanSquaredError()\n",
    "\n",
    "#optimizer\n",
    "optimizer = tf.keras.optimizers.Adam(learning_rate = 2e-3,\n",
    "                                    beta_1=0.9, beta_2=0.999)"
   ]
  },
  {
   "cell_type": "code",
   "execution_count": 25,
   "metadata": {
    "colab": {},
    "colab_type": "code",
    "id": "HVGsICmRKGdA"
   },
   "outputs": [],
   "source": [
    "@tf.function\n",
    "def train_batch(x,y):\n",
    "    with tf.GradientTape() as tape:\n",
    "        preds = m(x) #prediction\n",
    "        train_loss = loss_fn(y,preds) #record loss\n",
    "        gradients = tape.gradient(train_loss,m.trainable_weights)\n",
    "    optimizer.apply_gradients(zip(gradients,m.trainable_weights))\n",
    "    return train_loss\n",
    "\n",
    "@tf.function\n",
    "def valid_batch(x,y):\n",
    "    preds = m(x) #prediction\n",
    "    valid_loss = loss_fn(y,preds) #record loss\n",
    "    return valid_loss"
   ]
  },
  {
   "cell_type": "code",
   "execution_count": 26,
   "metadata": {
    "colab": {},
    "colab_type": "code",
    "id": "OkXx6XpcKGdD",
    "outputId": "b4599706-182c-4782-f700-7f8263a719cc"
   },
   "outputs": [
    {
     "name": "stdout",
     "output_type": "stream",
     "text": [
      "epoch 0 - Train Loss: 19551.390625;          Valid Loss: 12397.6318359375\n",
      "epoch 1 - Train Loss: 8371.078125;          Valid Loss: 7545.17236328125\n",
      "epoch 2 - Train Loss: 5026.359375;          Valid Loss: 5624.49169921875\n",
      "epoch 3 - Train Loss: 3577.279296875;          Valid Loss: 4685.0078125\n",
      "epoch 4 - Train Loss: 3229.5029296875;          Valid Loss: 4365.42041015625\n",
      "epoch 5 - Train Loss: 3134.18896484375;          Valid Loss: 4258.43408203125\n",
      "epoch 6 - Train Loss: 3089.658203125;          Valid Loss: 4210.73486328125\n",
      "epoch 7 - Train Loss: 3060.18359375;          Valid Loss: 4180.6943359375\n",
      "epoch 8 - Train Loss: 3046.470703125;          Valid Loss: 4155.7734375\n",
      "epoch 9 - Train Loss: 3034.196044921875;          Valid Loss: 4134.013671875\n",
      "Done in 0:00:03.039661\n"
     ]
    }
   ],
   "source": [
    "from datetime import datetime\n",
    "start_time = datetime.now()\n",
    "\n",
    "#to log epoch-level train and validation losses\n",
    "epoch_train_losses = []\n",
    "epoch_valid_losses = []\n",
    "for e in range(10):\n",
    "    #training loop\n",
    "    for i,(x,y) in enumerate(train_ds):\n",
    "        epoch_train_loss = []\n",
    "        train_loss = train_batch(x,y)\n",
    "        epoch_train_loss.append(train_loss)\n",
    "    epoch_train_losses.append(np.mean(epoch_train_loss))\n",
    "    \n",
    "    #validation loop\n",
    "    for i,(x,y) in enumerate(valid_ds):\n",
    "        epoch_valid_loss = []\n",
    "        valid_loss = valid_batch(x,y)\n",
    "        epoch_valid_loss.append(valid_loss)\n",
    "        # do not record or apply gradients\n",
    "    epoch_valid_losses.append(np.mean(epoch_valid_loss))\n",
    "    \n",
    "    #log\n",
    "    print(f'epoch {e} - Train Loss: {np.mean(epoch_train_loss)};\\\n",
    "          Valid Loss: {np.mean(epoch_valid_loss)}')\n",
    "\n",
    "print(f'Done in {datetime.now()-start_time}')"
   ]
  },
  {
   "cell_type": "code",
   "execution_count": 27,
   "metadata": {
    "colab": {},
    "colab_type": "code",
    "id": "uGWLyJCGKGdI",
    "outputId": "7c12af2c-1540-485a-a88b-22670643a54d"
   },
   "outputs": [
    {
     "data": {
      "text/plain": [
       "[<matplotlib.lines.Line2D at 0x13fe90f98>]"
      ]
     },
     "execution_count": 27,
     "metadata": {},
     "output_type": "execute_result"
    },
    {
     "data": {
      "image/png": "[encoded data removed]",
      "text/plain": [
       "<Figure size 432x288 with 1 Axes>"
      ]
     },
     "metadata": {
      "needs_background": "light"
     },
     "output_type": "display_data"
    }
   ],
   "source": [
    "#plot losses by epoch\n",
    "plt.plot(epoch_train_losses)\n",
    "plt.plot(epoch_valid_losses)"
   ]
  },
  {
   "cell_type": "code",
   "execution_count": null,
   "metadata": {
    "colab": {},
    "colab_type": "code",
    "id": "iT8NaKp9KGdM"
   },
   "outputs": [],
   "source": []
  }
 ],
 "metadata": {
  "accelerator": "TPU",
  "colab": {
   "collapsed_sections": [
    "JndnmDMp66FL",
    "ci1ISxxrZ7v0"
   ],
   "name": "first_steps_with_tensor_flow2.ipynb",
   "provenance": [],
   "version": "0.3.2"
  },
  "kernelspec": {
   "display_name": "Python 3",
   "language": "python",
   "name": "python3"
  },
  "language_info": {
   "codemirror_mode": {
    "name": "ipython",
    "version": 3
   },
   "file_extension": ".py",
   "mimetype": "text/x-python",
   "name": "python",
   "nbconvert_exporter": "python",
   "pygments_lexer": "ipython3",
   "version": "3.7.3"
  }
 },
 "nbformat": 4,
 "nbformat_minor": 2
}
